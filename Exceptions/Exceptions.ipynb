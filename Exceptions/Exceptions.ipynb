{
 "cells": [
  {
   "cell_type": "code",
   "execution_count": 32,
   "metadata": {},
   "outputs": [
    {
     "name": "stdout",
     "output_type": "stream",
     "text": [
      "Tivemos algum tipo de problema no valor que voce passou...\n",
      "Finalizando o sistema.....\n"
     ]
    }
   ],
   "source": [
    "try:\n",
    "    valor1  = int(input(\"Digite um valor: \"))\n",
    "    valor2  = int(input(\"Digite um segundo valor: \"))\n",
    "    resut = valor1/valor2\n",
    "#except Exception as erro:\n",
    " #   print(f\"Ops... hoveu algum problema {erro.__class__} \")\n",
    "except (ValueError, TypeError):\n",
    "    print(\"Tivemos algum tipo de problema no valor que voce passou...\")\n",
    "except ZeroDivisionError:\n",
    "    print(\"Não é possivel divir o valor por zero!!\")\n",
    "except KeyboardInterrupt:\n",
    "    print(\"O usuario preferiu não informar nenhum dado\")\n",
    "else:\n",
    "    print (f\"O resultado é : {resut: .2f}\")\n",
    "\n",
    "\n",
    "finally:\n",
    "    print(\"Finalizando o sistema.....\")"
   ]
  },
  {
   "cell_type": "code",
   "execution_count": null,
   "metadata": {},
   "outputs": [],
   "source": []
  }
 ],
 "metadata": {
  "kernelspec": {
   "display_name": "Python 3",
   "language": "python",
   "name": "python3"
  },
  "language_info": {
   "codemirror_mode": {
    "name": "ipython",
    "version": 3
   },
   "file_extension": ".py",
   "mimetype": "text/x-python",
   "name": "python",
   "nbconvert_exporter": "python",
   "pygments_lexer": "ipython3",
   "version": "3.12.1"
  }
 },
 "nbformat": 4,
 "nbformat_minor": 2
}
