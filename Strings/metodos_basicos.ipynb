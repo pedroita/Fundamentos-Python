{
 "cells": [
  {
   "cell_type": "code",
   "execution_count": null,
   "metadata": {},
   "outputs": [],
   "source": [
    "texto = \"   manipulação de strings com python      \"\n",
    "\n",
    "tamanho_tex=  len(texto)\n",
    "primeiraMaisucla= texto.capitalize()\n",
    "textoMainuscula= texto.upper()\n",
    "textoMinuscula= texto.lower()\n",
    "texto1 = texto.lstrip()\n",
    "texto2 = texto.rstrip()\n",
    "texto3 = texto.strip()\n",
    "\n",
    "print(texto)\n",
    "print(texto1)\n",
    "print(texto2)\n",
    "print(texto3)\n",
    "print(primeiraMaisucla)\n",
    "print(tamanho_tex)\n",
    "print(textoMinuscula)\n",
    "print(textoMainuscula)\n",
    "\n"
   ]
  },
  {
   "cell_type": "code",
   "execution_count": 6,
   "metadata": {},
   "outputs": [
    {
     "name": "stdout",
     "output_type": "stream",
     "text": [
      "3\n",
      "['', '', '', 'manipulação', 'de', 'strings', 'com', 'python', '', '', '', '', '', '']\n"
     ]
    }
   ],
   "source": [
    "posicao = texto.find(\"manipulação\")\n",
    "print(posicao)\n",
    "fatiar = texto.split(\" \")\n",
    "print(fatiar)"
   ]
  }
 ],
 "metadata": {
  "kernelspec": {
   "display_name": "Python 3",
   "language": "python",
   "name": "python3"
  },
  "language_info": {
   "codemirror_mode": {
    "name": "ipython",
    "version": 3
   },
   "file_extension": ".py",
   "mimetype": "text/x-python",
   "name": "python",
   "nbconvert_exporter": "python",
   "pygments_lexer": "ipython3",
   "version": "3.12.1"
  }
 },
 "nbformat": 4,
 "nbformat_minor": 2
}
