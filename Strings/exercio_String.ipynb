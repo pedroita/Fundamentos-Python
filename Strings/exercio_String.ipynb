{
 "cells": [
  {
   "cell_type": "code",
   "execution_count": 1,
   "metadata": {},
   "outputs": [
    {
     "name": "stdout",
     "output_type": "stream",
     "text": [
      "Numero de vogais : 13\n"
     ]
    }
   ],
   "source": [
    "mystring = \"Hoje eu vou tomar cana o dia todo\"\n",
    "busca = \"aeio\"\n",
    "cont = 0\n",
    "\n",
    "for x in mystring:\n",
    "    if x.lower() in busca: cont+= 1\n",
    "    \n",
    "print(f\"Numero de vogais : {cont}\")"
   ]
  },
  {
   "cell_type": "code",
   "execution_count": 2,
   "metadata": {},
   "outputs": [
    {
     "name": "stdout",
     "output_type": "stream",
     "text": [
      "Hello, Python!\n"
     ]
    }
   ],
   "source": [
    "digits = [str(x) for x in range(10)]\n",
    "mystr = 'He12llo, Py00th55on!'\n",
    "chars = []\n",
    "for x in mystr:\n",
    "   if x not in digits:\n",
    "      chars.append(x)\n",
    "newstr = ''.join(chars)\n",
    "print (newstr)"
   ]
  }
 ],
 "metadata": {
  "kernelspec": {
   "display_name": "Python 3",
   "language": "python",
   "name": "python3"
  },
  "language_info": {
   "codemirror_mode": {
    "name": "ipython",
    "version": 3
   },
   "file_extension": ".py",
   "mimetype": "text/x-python",
   "name": "python",
   "nbconvert_exporter": "python",
   "pygments_lexer": "ipython3",
   "version": "3.12.1"
  }
 },
 "nbformat": 4,
 "nbformat_minor": 2
}
