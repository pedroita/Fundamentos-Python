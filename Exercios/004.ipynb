{
 "cells": [
  {
   "cell_type": "code",
   "execution_count": 15,
   "metadata": {},
   "outputs": [
    {
     "name": "stdout",
     "output_type": "stream",
     "text": [
      "O tipo primitivo desse valor é: <class 'str'>\n",
      "Só tem espaços? False\n",
      "É um numero? False\n",
      "É alfabetico? True \n",
      "Esta em maiuscula? False \n",
      "Esta em minuscula? False \n",
      "Esta capitalizado? True \n"
     ]
    }
   ],
   "source": [
    "entrada = input(\"Digite alguma coisa : \")\n",
    "print (f\"O tipo primitivo desse valor é: {type(entrada)}\" )\n",
    "print(f\"Só tem espaços? {entrada.isspace()}\", )\n",
    "print(f\"É um numero? {entrada.isnumeric()}\")\n",
    "print(f\"É alfabetico? {entrada.isalpha()} \")\n",
    "print(f\"Esta em maiuscula? {entrada.isupper()} \")\n",
    "print(f\"Esta em minuscula? {entrada.islower()} \")\n",
    "print(f\"Esta capitalizado? {entrada.istitle()} \")"
   ]
  }
 ],
 "metadata": {
  "kernelspec": {
   "display_name": "Python 3",
   "language": "python",
   "name": "python3"
  },
  "language_info": {
   "codemirror_mode": {
    "name": "ipython",
    "version": 3
   },
   "file_extension": ".py",
   "mimetype": "text/x-python",
   "name": "python",
   "nbconvert_exporter": "python",
   "pygments_lexer": "ipython3",
   "version": "3.12.1"
  }
 },
 "nbformat": 4,
 "nbformat_minor": 2
}
