{
 "cells": [
  {
   "cell_type": "code",
   "execution_count": 5,
   "metadata": {},
   "outputs": [
    {
     "name": "stdout",
     "output_type": "stream",
     "text": [
      "O dobro do valor 85 é 170.\n",
      "O triplo do valor 85 é 255.\n",
      "A raiz quadrada é 85 é 9.22.\n"
     ]
    }
   ],
   "source": [
    "import math\n",
    "valor = int(input(\"Digite um valor: \"))\n",
    "print(f\"O dobro do valor {valor} é {valor*2}.\")\n",
    "print(f\"O triplo do valor {valor} é {valor*3}.\")\n",
    "print(f\"A raiz quadrada é {valor} é {math.sqrt(valor):.2f}.\")\n",
    "\n"
   ]
  }
 ],
 "metadata": {
  "kernelspec": {
   "display_name": "Python 3",
   "language": "python",
   "name": "python3"
  },
  "language_info": {
   "codemirror_mode": {
    "name": "ipython",
    "version": 3
   },
   "file_extension": ".py",
   "mimetype": "text/x-python",
   "name": "python",
   "nbconvert_exporter": "python",
   "pygments_lexer": "ipython3",
   "version": "3.12.1"
  }
 },
 "nbformat": 4,
 "nbformat_minor": 2
}
