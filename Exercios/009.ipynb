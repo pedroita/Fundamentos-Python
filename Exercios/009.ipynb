{
 "cells": [
  {
   "cell_type": "code",
   "execution_count": 4,
   "metadata": {},
   "outputs": [
    {
     "name": "stdout",
     "output_type": "stream",
     "text": [
      "------------\n",
      "5 * 1  = 5\n",
      "5 * 2  = 10\n",
      "5 * 3  = 15\n",
      "5 * 4  = 20\n",
      "5 * 5  = 25\n",
      "5 * 6  = 30\n",
      "5 * 7  = 35\n",
      "5 * 8  = 40\n",
      "5 * 9  = 45\n",
      "5 * 10 = 50\n",
      "------------\n"
     ]
    }
   ],
   "source": [
    "numero = int(input(\"Digite um número para ver sua tabuada: 6\"))\n",
    "print(\"------------\")\n",
    "print(f\"{numero} * 1  = {numero*1}\")\n",
    "print(f\"{numero} * 2  = {numero*2}\")\n",
    "print(f\"{numero} * 3  = {numero*3}\")\n",
    "print(f\"{numero} * 4  = {numero*4}\")\n",
    "print(f\"{numero} * 5  = {numero*5}\")\n",
    "print(f\"{numero} * 6  = {numero*6}\")\n",
    "print(f\"{numero} * 7  = {numero*7}\")\n",
    "print(f\"{numero} * 8  = {numero*8}\")\n",
    "print(f\"{numero} * 9  = {numero*9}\")\n",
    "print(f\"{numero} * 10 = {numero*10}\")\n",
    "print(\"------------\")\n"
   ]
  }
 ],
 "metadata": {
  "kernelspec": {
   "display_name": "Python 3",
   "language": "python",
   "name": "python3"
  },
  "language_info": {
   "codemirror_mode": {
    "name": "ipython",
    "version": 3
   },
   "file_extension": ".py",
   "mimetype": "text/x-python",
   "name": "python",
   "nbconvert_exporter": "python",
   "pygments_lexer": "ipython3",
   "version": "3.12.1"
  }
 },
 "nbformat": 4,
 "nbformat_minor": 2
}
