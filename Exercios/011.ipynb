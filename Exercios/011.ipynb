{
 "cells": [
  {
   "cell_type": "code",
   "execution_count": 2,
   "metadata": {},
   "outputs": [
    {
     "name": "stdout",
     "output_type": "stream",
     "text": [
      "Sua parede tem a dimensao de 2.5X 1.8 e sua área é de 4.375m²\n",
      "Para pintar essa parede, você precisará de 2187.5 de tinta.\n"
     ]
    }
   ],
   "source": [
    "lagura_parede = float(input(\"Largura da parede: \"))\n",
    "altura_da_parede = float(input(\"Altura da parede\"))\n",
    "dimensao= lagura_parede*altura_da_parede\n",
    "quantidade_tinta = (dimensao*1000)/2\n",
    "print(f\"Sua parede tem a dimensao de {lagura_parede:.1f}X {altura_da_parede:.1f} e sua área é de {dimensao}m²\")\n",
    "print(f\"Para pintar essa parede, você precisará de {quantidade_tinta} de tinta.\")"
   ]
  }
 ],
 "metadata": {
  "kernelspec": {
   "display_name": "Python 3",
   "language": "python",
   "name": "python3"
  },
  "language_info": {
   "codemirror_mode": {
    "name": "ipython",
    "version": 3
   },
   "file_extension": ".py",
   "mimetype": "text/x-python",
   "name": "python",
   "nbconvert_exporter": "python",
   "pygments_lexer": "ipython3",
   "version": "3.12.1"
  }
 },
 "nbformat": 4,
 "nbformat_minor": 2
}
