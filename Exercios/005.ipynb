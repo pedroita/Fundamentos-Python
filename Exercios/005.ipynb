{
 "cells": [
  {
   "cell_type": "code",
   "execution_count": 2,
   "metadata": {},
   "outputs": [
    {
     "name": "stdout",
     "output_type": "stream",
     "text": [
      " Você digitou o 85 o seu antessor é 84 e seu sucesso é 86\n"
     ]
    }
   ],
   "source": [
    "valor1 = int(input(\"Digite um valor: \"))\n",
    "\n",
    "print(f\" Você digitou o {valor1} o seu antessor é {valor1-1} e seu sucesso é {valor1+1}\")"
   ]
  }
 ],
 "metadata": {
  "kernelspec": {
   "display_name": "Python 3",
   "language": "python",
   "name": "python3"
  },
  "language_info": {
   "codemirror_mode": {
    "name": "ipython",
    "version": 3
   },
   "file_extension": ".py",
   "mimetype": "text/x-python",
   "name": "python",
   "nbconvert_exporter": "python",
   "pygments_lexer": "ipython3",
   "version": "3.12.1"
  }
 },
 "nbformat": 4,
 "nbformat_minor": 2
}
