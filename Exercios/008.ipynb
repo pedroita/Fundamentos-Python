{
 "cells": [
  {
   "cell_type": "code",
   "execution_count": 11,
   "metadata": {},
   "outputs": [
    {
     "name": "stdout",
     "output_type": "stream",
     "text": [
      " A medida de 52.0 corresponde a \n",
      "0.05km\n",
      "0.52hm\n",
      "5.20dm\n",
      "5200.00cm\n",
      "52000.00mm\n"
     ]
    }
   ],
   "source": [
    "distancia = float(input(\"Digite uma distancia em metros\"))\n",
    "print(f\" A medida de {distancia:.1f} corresponde a \")\n",
    "print(f\"{distancia/1000:.2f}km\")\n",
    "print(f\"{distancia/100:.2f}hm\")\n",
    "print(f\"{distancia/10:.2f}dm\")\n",
    "print(f\"{distancia*100:.2f}cm\")\n",
    "print(f\"{distancia*1000:.2f}mm\")"
   ]
  }
 ],
 "metadata": {
  "kernelspec": {
   "display_name": "Python 3",
   "language": "python",
   "name": "python3"
  },
  "language_info": {
   "codemirror_mode": {
    "name": "ipython",
    "version": 3
   },
   "file_extension": ".py",
   "mimetype": "text/x-python",
   "name": "python",
   "nbconvert_exporter": "python",
   "pygments_lexer": "ipython3",
   "version": "3.12.1"
  }
 },
 "nbformat": 4,
 "nbformat_minor": 2
}
