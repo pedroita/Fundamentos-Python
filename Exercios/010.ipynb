{
 "cells": [
  {
   "cell_type": "code",
   "execution_count": 7,
   "metadata": {},
   "outputs": [
    {
     "name": "stdout",
     "output_type": "stream",
     "text": [
      "Com R$ 19.87 você consegue comprar US$2.37\n"
     ]
    }
   ],
   "source": [
    "real = float(input(\"Quanto dinheiro você tem na carteira? R$ \"))\n",
    "cotacao_modeda = float(input(\"Quanto custa o dollar hoje? $ \"))\n",
    "dolares = real/cotacao_modeda\n",
    "print(f\"Com R$ {real} você consegue comprar US${dolares:.2f}\")"
   ]
  }
 ],
 "metadata": {
  "kernelspec": {
   "display_name": "Python 3",
   "language": "python",
   "name": "python3"
  },
  "language_info": {
   "codemirror_mode": {
    "name": "ipython",
    "version": 3
   },
   "file_extension": ".py",
   "mimetype": "text/x-python",
   "name": "python",
   "nbconvert_exporter": "python",
   "pygments_lexer": "ipython3",
   "version": "3.12.1"
  }
 },
 "nbformat": 4,
 "nbformat_minor": 2
}
