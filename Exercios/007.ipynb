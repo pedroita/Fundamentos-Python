{
 "cells": [
  {
   "cell_type": "code",
   "execution_count": 18,
   "metadata": {},
   "outputs": [
    {
     "name": "stdout",
     "output_type": "stream",
     "text": [
      "A média entre 22.0 e 5.0 é igual a 13.5 \n"
     ]
    }
   ],
   "source": [
    "valor1 = float(input(\"Digite a primeira nota do aluno: \"))\n",
    "valor2 = float(input(\"Digite a segunda nota nota do aluno: \"))\n",
    "\n",
    "media = (valor1 +valor2)/2\n",
    "\n",
    "print(f\"A média entre {valor1:.1f} e {valor2:.1f} é igual a {media:.1f} \")"
   ]
  }
 ],
 "metadata": {
  "kernelspec": {
   "display_name": "Python 3",
   "language": "python",
   "name": "python3"
  },
  "language_info": {
   "codemirror_mode": {
    "name": "ipython",
    "version": 3
   },
   "file_extension": ".py",
   "mimetype": "text/x-python",
   "name": "python",
   "nbconvert_exporter": "python",
   "pygments_lexer": "ipython3",
   "version": "3.12.1"
  }
 },
 "nbformat": 4,
 "nbformat_minor": 2
}
