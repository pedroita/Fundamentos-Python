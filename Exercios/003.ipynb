{
 "cells": [
  {
   "cell_type": "code",
   "execution_count": 1,
   "metadata": {},
   "outputs": [
    {
     "name": "stdout",
     "output_type": "stream",
     "text": [
      " A soma entre 5 e 9 é igual a : 14\n"
     ]
    }
   ],
   "source": [
    "valor1 = int(input(\"Digite um valor: \"))\n",
    "valor2 = int(input(\"Digite um valor: \"))\n",
    "resultado = valor1 + valor2\n",
    "print(f\" A soma entre {valor1} e {valor2} é igual a : {resultado}!\" )"
   ]
  }
 ],
 "metadata": {
  "kernelspec": {
   "display_name": "Python 3",
   "language": "python",
   "name": "python3"
  },
  "language_info": {
   "codemirror_mode": {
    "name": "ipython",
    "version": 3
   },
   "file_extension": ".py",
   "mimetype": "text/x-python",
   "name": "python",
   "nbconvert_exporter": "python",
   "pygments_lexer": "ipython3",
   "version": "3.12.1"
  }
 },
 "nbformat": 4,
 "nbformat_minor": 2
}
