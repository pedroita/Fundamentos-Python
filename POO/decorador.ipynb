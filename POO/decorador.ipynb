{
 "cells": [
  {
   "cell_type": "code",
   "execution_count": null,
   "metadata": {},
   "outputs": [],
   "source": [
    "def meu_decorador(funcao):\n",
    "    def envelope():\n",
    "        print (\"Fz alfo antes da execucao a função.\")\n",
    "        funcao()\n",
    "        print(\"fz algo depois da execução da função\")\n",
    "    return envelope\n",
    "\n",
    "@meu_decorador\n",
    "def ola_mundo():\n",
    "    print(\"Ola mundoOO\")\n",
    "    \n",
    "#ola_mundo = meu_decorador(ola_mundo)\n",
    "ola_mundo()"
   ]
  },
  {
   "cell_type": "code",
   "execution_count": 12,
   "metadata": {},
   "outputs": [
    {
     "name": "stdout",
     "output_type": "stream",
     "text": [
      "estou aprendendo Python\n",
      "estou aprendendo Python\n",
      "PYTHON\n"
     ]
    },
    {
     "data": {
      "text/plain": [
       "<function __main__.duplicar(funcao)>"
      ]
     },
     "execution_count": 12,
     "metadata": {},
     "output_type": "execute_result"
    }
   ],
   "source": [
    "import functools\n",
    "def duplicar(funcao):\n",
    "    @functools.wraps(funcao)\n",
    "    def envelope(*args, **kwargs):\n",
    "        funcao(*args,**kwargs)\n",
    "        return funcao(*args,**kwargs)\n",
    "    return envelope\n",
    "\n",
    "\n",
    "@duplicar\n",
    "def aprender(tecnologia):\n",
    "    print (f\"estou aprendendo {tecnologia}\")\n",
    "    return tecnologia.upper()    \n",
    "\n",
    "tecnologia = aprender(\"Python\")\n",
    "print(tecnologia)\n",
    "aprender\n",
    "duplicar"
   ]
  }
 ],
 "metadata": {
  "kernelspec": {
   "display_name": "Python 3",
   "language": "python",
   "name": "python3"
  },
  "language_info": {
   "codemirror_mode": {
    "name": "ipython",
    "version": 3
   },
   "file_extension": ".py",
   "mimetype": "text/x-python",
   "name": "python",
   "nbconvert_exporter": "python",
   "pygments_lexer": "ipython3",
   "version": "3.12.1"
  }
 },
 "nbformat": 4,
 "nbformat_minor": 2
}
