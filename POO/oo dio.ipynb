{
 "cells": [
  {
   "cell_type": "code",
   "execution_count": 1,
   "metadata": {},
   "outputs": [],
   "source": [
    "class Cachorro:\n",
    "    def __init__(self, nome,cor,acordado = True) :\n",
    "        self.nome = nome\n",
    "        self.cor = cor\n",
    "        self.acordado = acordado\n",
    "    \n",
    "    def latir(self):\n",
    "        print(\"Auau....\")\n",
    "    \n",
    "    def dormir(self):\n",
    "        self.acordado = False\n",
    "        print(\"Zzzzzz.......\")"
   ]
  },
  {
   "cell_type": "code",
   "execution_count": 12,
   "metadata": {},
   "outputs": [
    {
     "name": "stdout",
     "output_type": "stream",
     "text": [
      "Auau....\n",
      "Zzzzzz.......\n",
      "Zzzzzz.......\n",
      "False\n"
     ]
    }
   ],
   "source": [
    "animal =Cachorro(\"mike\",\"preto\",True)\n",
    "anima2 =Cachorro(\"mike\",\"preto\")\n",
    "\n",
    "animal.latir()\n",
    "animal.nome\n",
    "animal.dormir()\n",
    "anima2.dormir()\n",
    "print(anima2.acordado)"
   ]
  },
  {
   "cell_type": "code",
   "execution_count": 13,
   "metadata": {},
   "outputs": [],
   "source": [
    "class Bicicleta():\n",
    "    def __init__(self, cor,modelo,ano, valor):\n",
    "        self.cor = cor\n",
    "        self.modelo = modelo\n",
    "        self.ano = ano\n",
    "        self.valor = valor\n",
    "    \n",
    "    def buzinar(self):\n",
    "        print(\"bibibi...\")\n",
    "    def parar(self):\n",
    "        print(\"prando...\")\n",
    "    def correr (self):\n",
    "        print(\"correndo!!\")"
   ]
  },
  {
   "cell_type": "code",
   "execution_count": 16,
   "metadata": {},
   "outputs": [
    {
     "name": "stdout",
     "output_type": "stream",
     "text": [
      "988.44\n",
      "bibibi...\n",
      "prando...\n",
      "correndo!!\n"
     ]
    }
   ],
   "source": [
    "bike = Bicicleta(\"vermelha\",\"Cros\",2020,988.44)\n",
    "print(f\"Valor da bike é: {bike.valor}\")\n",
    "bike.buzinar()\n",
    "bike.parar()\n",
    "bike.correr()"
   ]
  }
 ],
 "metadata": {
  "kernelspec": {
   "display_name": "Python 3",
   "language": "python",
   "name": "python3"
  },
  "language_info": {
   "codemirror_mode": {
    "name": "ipython",
    "version": 3
   },
   "file_extension": ".py",
   "mimetype": "text/x-python",
   "name": "python",
   "nbconvert_exporter": "python",
   "pygments_lexer": "ipython3",
   "version": "3.12.1"
  }
 },
 "nbformat": 4,
 "nbformat_minor": 2
}
