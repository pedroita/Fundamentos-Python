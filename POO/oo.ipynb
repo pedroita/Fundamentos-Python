{
 "cells": [
  {
   "cell_type": "code",
   "execution_count": 12,
   "metadata": {},
   "outputs": [
    {
     "name": "stdout",
     "output_type": "stream",
     "text": [
      "Nome do animal : Mike\n",
      "Idade do animal : 5 years\n",
      "sexo masculino: False\n",
      "my name is Mike \n",
      "minha idade é 5\n",
      "my name is FOMFOM \n",
      "minha idade é 30\n",
      "Sou um cachorro!!\n"
     ]
    }
   ],
   "source": [
    "class Animal:\n",
    "    def __init__(self, name, age, gender):\n",
    "        self.name = name\n",
    "        self.age = age\n",
    "        self.gender = gender\n",
    "        \n",
    "    def introducaoaoSelf(self):\n",
    "        print(f\"my name is {self.name} \")\n",
    "        print(f\"minha idade é {self.age}\")\n",
    "        \n",
    "    def ismale(self):\n",
    "        return self.gender.lower() == 'masculino'\n",
    "\n",
    "class Mamifero(Animal):\n",
    "    def stadoanimal(self):\n",
    "        print(\"Sou um cachorro!!\")\n",
    "\n",
    "felino = Animal(\"Mike\", 5, \"Male\")\n",
    "print (f\"Nome do animal : {felino.name}\")\n",
    "print(f\"Idade do animal : {str(felino.age)} years\")\n",
    "print(f\"sexo masculino: {felino.ismale()}\")\n",
    "felino.introducaoaoSelf()\n",
    "\n",
    "mamifero4patas = Mamifero(\"FOMFOM\",30, \"masculino\")\n",
    "mamifero4patas.introducaoaoSelf()\n",
    "mamifero4patas.stadoanimal()"
   ]
  },
  {
   "cell_type": "code",
   "execution_count": 20,
   "metadata": {},
   "outputs": [
    {
     "name": "stdout",
     "output_type": "stream",
     "text": [
      "my name is Italo \n",
      "minha idade é 30\n",
      "I am a teacher!\n",
      "Não exite essa profissão cadastrada, infomar ao adm\n",
      "Eu sou professorª 3 coursos\n",
      "Eu sou professor de Java\n",
      "Eu sou professor de Python\n",
      "Eu sou professor de SLQ\n"
     ]
    }
   ],
   "source": [
    "class Funcionario:\n",
    "    def __init__(self,nome, idade, funcao):\n",
    "        \n",
    "        self.nome = nome\n",
    "        self.idade = idade\n",
    "        self.funcao = funcao\n",
    "    \n",
    "    def introducaoaoSelf(self):\n",
    "        print(f\"my name is {self.nome} \")\n",
    "        print(f\"minha idade é {self.idade}\") \n",
    "        \n",
    "    def quemsoueu(self):\n",
    "        \n",
    "        if self.funcao.lower() == \"Professor\":\n",
    "            print(\"Eu sou professor\")\n",
    "        elif self.funcao.lower() == \"Auxiliar\":\n",
    "            print(\"Eu sou auxiliar de serviços gerais\")\n",
    "        else:\n",
    "            print(\"Não exite essa profissão cadastrada, infomar ao adm\")\n",
    "\n",
    "class Professor(Funcionario):\n",
    "    def __init__(self, nome, idade, funcao):\n",
    "        self.cursos = []\n",
    "        super().__init__(nome, idade, funcao)\n",
    "    \n",
    "    def stateprofession(self):\n",
    "        print(\"I am a teacher!\") \n",
    "        \n",
    "    def introducaoaocurso(self):\n",
    "       super().introducaoaoSelf()\n",
    "       self.stateprofession()\n",
    "       self.quemsoueu()\n",
    "       print(f\"Eu sou professorª {str(self.nrocourse())} coursos\")\n",
    "       for course in self.cursos:\n",
    "           print(f\"Eu sou professor de {course}\")\n",
    "    \n",
    "    def addcurso(self, course):\n",
    "        self.cursos.append(course)\n",
    "    def nrocourse(self):\n",
    "        return len(self.cursos)\n",
    "\n",
    "author = Professor(\"Italo\", 30, \"Professor\")\n",
    "author.addcurso(\"Java\")\n",
    "author.addcurso(\"Python\")\n",
    "author.addcurso(\"SLQ\")\n",
    "author.introducaoaocurso()\n",
    "    "
   ]
  }
 ],
 "metadata": {
  "kernelspec": {
   "display_name": "Python 3",
   "language": "python",
   "name": "python3"
  },
  "language_info": {
   "codemirror_mode": {
    "name": "ipython",
    "version": 3
   },
   "file_extension": ".py",
   "mimetype": "text/x-python",
   "name": "python",
   "nbconvert_exporter": "python",
   "pygments_lexer": "ipython3",
   "version": "3.12.1"
  }
 },
 "nbformat": 4,
 "nbformat_minor": 2
}
