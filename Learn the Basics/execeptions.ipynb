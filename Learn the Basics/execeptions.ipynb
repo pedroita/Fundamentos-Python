{
 "cells": [
  {
   "cell_type": "code",
   "execution_count": null,
   "metadata": {
    "vscode": {
     "languageId": "plaintext"
    }
   },
   "outputs": [],
   "source": [
    "try:\n",
    "    valor1  = int(input(\"Digite um valor: \"))\n",
    "    valor2  = int(input(\"Digite um segundo valor: \"))\n",
    "    resut = valor1/valor2\n",
    "#except Exception as erro:\n",
    " #   print(f\"Ops... hoveu algum problema {erro.__class__} \")\n",
    "except (ValueError, TypeError):\n",
    "    print(\"Tivemos algum tipo de problema no valor que voce passou...\")\n",
    "except ZeroDivisionError:\n",
    "    print(\"Não é possivel divir o valor por zero!!\")\n",
    "except KeyboardInterrupt:\n",
    "    print(\"O usuario preferiu não informar nenhum dado\")\n",
    "else:\n",
    "    print (f\"O resultado é : {resut: .2f}\")\n",
    "\n",
    "\n",
    "finally:\n",
    "    print(\"Finalizando o sistema.....\")"
   ]
  }
 ],
 "metadata": {
  "language_info": {
   "name": "python"
  }
 },
 "nbformat": 4,
 "nbformat_minor": 2
}
