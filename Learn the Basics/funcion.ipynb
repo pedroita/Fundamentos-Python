{
 "cells": [
  {
   "cell_type": "code",
   "execution_count": null,
   "metadata": {
    "vscode": {
     "languageId": "plaintext"
    }
   },
   "outputs": [],
   "source": [
    "#escopo local\n",
    "\n",
    "\n",
    "\n",
    "\n",
    "var_global = \"Agilistas\"\n",
    "\n",
    "def escreve_texto():\n",
    "    var_local = \"Pedro Italo\"\n",
    "    print (\"varialve local: \" + var_local)\n",
    "    print (\"Variavel global: \" + var_global)\n",
    "escreve_texto()\n",
    "\n",
    "def dobro(x):\n",
    "    dobro = 2*x\n",
    "    print (\"Dobro = \",dobro)\n",
    "\n",
    "dobro(9)    \n",
    "\n",
    "def soma(x,y):\n",
    "    soma = x+y\n",
    "    print(\"Soma = \" ,soma)\n",
    "\n",
    "soma(8,9)\n",
    "\n",
    "def calcular (x,y):\n",
    "    print (\"Soma = \" , x+y)\n",
    "    print (\"Subtração = \" , x-y)\n",
    "    print (\"Divisão = \" , x/y)\n",
    "    print (\"Multiplicão = \" , x*y)\n",
    "\n",
    "Valor1=  float(input(\"Digite um numero : \"))\n",
    "Valor2=  float(input(\"Digite um numero : \"))\n",
    "\n",
    "calcular(Valor1,Valor2)"
   ]
  }
 ],
 "metadata": {
  "language_info": {
   "name": "python"
  }
 },
 "nbformat": 4,
 "nbformat_minor": 2
}
