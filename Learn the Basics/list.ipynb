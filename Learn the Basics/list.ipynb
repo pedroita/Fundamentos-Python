{
 "cells": [
  {
   "cell_type": "code",
   "execution_count": null,
   "metadata": {},
   "outputs": [],
   "source": [
    "list =  []\n",
    "list.append(1223)\n",
    "list.append(1456)\n",
    "list.append(\"name space\")\n",
    "print(list)"
   ]
  },
  {
   "cell_type": "markdown",
   "metadata": {},
   "source": [
    "#### Adicionando por posição"
   ]
  },
  {
   "cell_type": "code",
   "execution_count": null,
   "metadata": {},
   "outputs": [],
   "source": [
    "list[0]= \"Ola mundo na posição 0\"\n",
    "print(list)\n",
    "list[2]= \"Ola mundo na posição 3\"\n",
    "print(list)"
   ]
  },
  {
   "cell_type": "markdown",
   "metadata": {},
   "source": [
    "### Mudar posição no vetor"
   ]
  },
  {
   "cell_type": "code",
   "execution_count": null,
   "metadata": {},
   "outputs": [],
   "source": [
    "nomeArray = [\"L\", \"I\", \"V\", \"I\", \"A\"]\n",
    "print(str(nomeArray))\n",
    "\n",
    "nomeArray[0]= \"P\"\n",
    "print(nomeArray)\n",
    "print(str(nomeArray))\n",
    "print(''.join(nomeArray))\n"
   ]
  },
  {
   "cell_type": "markdown",
   "metadata": {},
   "source": [
    "##### Remover elemento da lista\n"
   ]
  },
  {
   "cell_type": "code",
   "execution_count": null,
   "metadata": {},
   "outputs": [],
   "source": [
    "list.remove(list[0])\n",
    "print(list)"
   ]
  },
  {
   "cell_type": "code",
   "execution_count": null,
   "metadata": {},
   "outputs": [],
   "source": [
    "list.append(\"Bem vindo aqui em casa\")\n",
    "list.sort()\n",
    "print(list)"
   ]
  },
  {
   "cell_type": "code",
   "execution_count": null,
   "metadata": {},
   "outputs": [],
   "source": [
    "# listas\n",
    "arrayNumber = [1, 2, 3, 4]\n",
    "arrayName = ['Paulo', 'Maria ', 'Carlos']\n",
    "arrayMisto = ['dois', 10, True]\n",
    "\n",
    "# add  na lista\n",
    "array = [1, 2, 3, 9, 4, 22, 122, 7]\n",
    "print(array)\n",
    "array.append(4)\n",
    "print(array)\n",
    "array.remove(2)\n",
    "print(array)\n",
    "array.sort()\n",
    "print(array)"
   ]
  },
  {
   "cell_type": "code",
   "execution_count": null,
   "metadata": {},
   "outputs": [],
   "source": [
    "conjunto = {1,2,3,4}\n",
    "for conjuntos in conjunto:\n",
    "    print (conjuntos)\n",
    "\n",
    "frutas = ['maca','banana', 'orage']\n",
    "\n",
    "for fruta in frutas:\n",
    "    print(fruta)\n",
    "\n",
    "for index,fruta in enumerate(frutas):\n",
    "    print (index,fruta)"
   ]
  },
  {
   "cell_type": "code",
   "execution_count": null,
   "metadata": {},
   "outputs": [],
   "source": [
    "list_reads_new = {}\n",
    "list_reads_new['Senhor dos aneis'] = 8\n",
    "list_reads_new['Game of trones'] = 9\n",
    "list_reads_new [\"HP\"]= 9\n",
    "list_reads_new[ \"Ligar o foda-se\"] = 5\n",
    "\n",
    "list_reads_new\n",
    "print(list_reads_new[\"HP\"])\n",
    "\n",
    "print(list_reads_new)\n",
    "\n",
    "person = {}\n",
    "person[\"Italo\"] = [105, \"Italo Campos\", 40, 1.85]\n",
    "\n",
    "print(person[\"Italo\"])"
   ]
  },
  {
   "cell_type": "code",
   "execution_count": null,
   "metadata": {},
   "outputs": [],
   "source": [
    "lista= []\n",
    "for item in range (5):\n",
    "    lista.append(item**2)\n",
    "    print(lista)\n",
    "nova_lista  = [item*2 for item in range(0,100)]\n",
    "print(nova_lista)"
   ]
  },
  {
   "cell_type": "code",
   "execution_count": null,
   "metadata": {},
   "outputs": [],
   "source": [
    "list_x = [1,2,4,5]\n",
    "resul = list_x.sort()\n",
    "print(resul)"
   ]
  }
 ],
 "metadata": {
  "kernelspec": {
   "display_name": "Python 3",
   "language": "python",
   "name": "python3"
  },
  "language_info": {
   "codemirror_mode": {
    "name": "ipython",
    "version": 3
   },
   "file_extension": ".py",
   "mimetype": "text/x-python",
   "name": "python",
   "nbconvert_exporter": "python",
   "pygments_lexer": "ipython3",
   "version": "3.12.4"
  }
 },
 "nbformat": 4,
 "nbformat_minor": 2
}
