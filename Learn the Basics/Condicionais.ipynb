{
 "cells": [
  {
   "cell_type": "markdown",
   "metadata": {},
   "source": [
    "### if..elif...else"
   ]
  },
  {
   "cell_type": "code",
   "execution_count": null,
   "metadata": {
    "vscode": {
     "languageId": "plaintext"
    }
   },
   "outputs": [],
   "source": [
    "\n",
    "print (\"Calculo da idade para candidato a prefeito e eleitores validados da cidade arcoris \")\n",
    "\n",
    "idade  = int(input(\"Digite usa idade: \"))\n",
    "\n",
    "if idade >= 18 and idade <= 21:\n",
    "    print(\"Você possui idade pra volta mas não pode ser candidato\")\n",
    "elif idade > 21 and idade <= 71 :\n",
    "    print(\"Você pode ser candidato \")\n",
    "elif idade > 71:\n",
    "    print(\"Você não pode mas ser canditado\")\n",
    "else:\n",
    "    print (\"Você não possui idade para votar\")  "
   ]
  },
  {
   "cell_type": "code",
   "execution_count": null,
   "metadata": {
    "vscode": {
     "languageId": "plaintext"
    }
   },
   "outputs": [],
   "source": [
    "frase = \"Fui ao mar pescar\"\n",
    "buscar = \"pescarss\"\n",
    "if buscar in frase:\n",
    "    print (f\" {buscar} esta dentro de:  {frase}\")\n",
    "else:\n",
    "    print(f\"trecho buscado : '{buscar}' não esta dentro da frease\")"
   ]
  },
  {
   "cell_type": "code",
   "execution_count": null,
   "metadata": {
    "vscode": {
     "languageId": "plaintext"
    }
   },
   "outputs": [],
   "source": [
    "entrada1 = int (input(\"Digite um valor maior que zero e menor que 1000\")\n",
    "               )\n",
    "entrada2 = int (input(\"Digite um valor maior que zero e menor que 1000\")\n",
    "               )\n",
    "entrada3 = int (input(\"Digite um valor maior que zero e menor que 1000\")\n",
    "               )\n",
    "\n",
    "if entrada1 > entrada2 and entrada1> entrada3:\n",
    "    print (f\"O valor {entrada1} e maior que o valor {entrada2} e {entrada3}\")\n",
    "elif entrada2>entrada1 and entrada2>entrada3:\n",
    "    print (f\"O valor {entrada2} e maior que o valor {entrada1} e {entrada3}\")\n",
    "elif entrada3>entrada1 and entrada3>entrada2:\n",
    "    print(f'o valor {entrada3} é maior {entrada1} e {entrada2}')\n",
    "else:\n",
    "    print(f\"o valor passado não esta mapeado\")\n"
   ]
  },
  {
   "cell_type": "markdown",
   "metadata": {},
   "source": [
    "# Swite case"
   ]
  },
  {
   "cell_type": "code",
   "execution_count": null,
   "metadata": {
    "vscode": {
     "languageId": "plaintext"
    }
   },
   "outputs": [],
   "source": [
    "def dia_semanas():\n",
    "    dia_Semana= int(input(\"Digite um numero de entre 1 e 7 referente a semana\"))\n",
    "\n",
    "    match dia_Semana:\n",
    "        case 0:\n",
    "            print (\"0 zero não é um dia da semana\")\n",
    "        case 1:\n",
    "            return \"Segunda feira\"\n",
    "        case 2:\n",
    "            return \"Terça\"\n",
    "        case _:\n",
    "            return \"Saindo...\"\n",
    "\n",
    "if __name__ == \"__main__\":\n",
    "    for _ in range(1):\n",
    "        dia_semanas()\n",
    "    "
   ]
  }
 ],
 "metadata": {
  "language_info": {
   "name": "python"
  }
 },
 "nbformat": 4,
 "nbformat_minor": 2
}
