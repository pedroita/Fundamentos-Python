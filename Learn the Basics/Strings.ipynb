{
 "cells": [
  {
   "cell_type": "markdown",
   "id": "54b3b8e6-afd2-4355-9065-e18e3a5dad1d",
   "metadata": {},
   "source": [
    "## Strings manipulação"
   ]
  },
  {
   "cell_type": "code",
   "execution_count": 34,
   "id": "076b3084-f9e4-4207-a813-dfb4d1dc5656",
   "metadata": {},
   "outputs": [
    {
     "name": "stdout",
     "output_type": "stream",
     "text": [
      "bem vindo\n",
      "<class 'str'>\n"
     ]
    }
   ],
   "source": [
    "Saudacao = \"bem vindo\"\n",
    "print (f\"{Saudacao}\")\n",
    "print(type(Saudacao))"
   ]
  },
  {
   "cell_type": "markdown",
   "id": "f23ff059",
   "metadata": {},
   "source": [
    "## Cadeia de carateres e Fatiamento"
   ]
  },
  {
   "cell_type": "code",
   "execution_count": 35,
   "id": "38577523",
   "metadata": {},
   "outputs": [
    {
     "name": "stdout",
     "output_type": "stream",
     "text": [
      "29\n",
      "Bem vindo ao estudo de py\n",
      "de py\n"
     ]
    }
   ],
   "source": [
    "variavel = \"Bem vindo ao estudo de python\"\n",
    "variavel[0]\n",
    "variavel[-8]\n",
    "print(len(variavel))\n",
    "print(variavel[-29:-4])\n",
    "print(variavel[20:-4])\n"
   ]
  },
  {
   "cell_type": "code",
   "execution_count": 36,
   "id": "1a6c7130",
   "metadata": {},
   "outputs": [
    {
     "name": "stdout",
     "output_type": "stream",
     "text": [
      "Valor original da variavel: mundo\n",
      "['m', 'u', 'n', 'K', 'd', 'o']\n",
      "Lista modificada : munKdo\n"
     ]
    }
   ],
   "source": [
    "variavel1 = \"mundo\"\n",
    "print (f\"Valor original da variavel: {variavel1}\")\n",
    "lista = list(variavel1)\n",
    "lista.insert(3,\"K\")\n",
    "print(lista)\n",
    "lista2 = ''.join(lista)\n",
    "print(f\"Lista modificada : {lista2}\")"
   ]
  },
  {
   "cell_type": "markdown",
   "id": "893d9f83",
   "metadata": {},
   "source": [
    "## Modulo Matriz"
   ]
  },
  {
   "cell_type": "code",
   "execution_count": 37,
   "id": "2406f1d8",
   "metadata": {},
   "outputs": [
    {
     "name": "stdout",
     "output_type": "stream",
     "text": [
      "Valor orignal: WORD\n",
      "Valor modificado: WORlD\n"
     ]
    }
   ],
   "source": [
    "import array as ar\n",
    "s1=\"WORD\"\n",
    "print(f\"Valor orignal: {s1}\")\n",
    "sar=ar.array('u', s1)\n",
    "sar.insert(3,\"l\")\n",
    "s1 = sar.tounicode()\n",
    "\n",
    "print(f\"Valor modificado: {s1}\")\n"
   ]
  },
  {
   "cell_type": "markdown",
   "id": "8850207d",
   "metadata": {},
   "source": [
    "## String IO"
   ]
  },
  {
   "cell_type": "code",
   "execution_count": 38,
   "id": "2b81f912",
   "metadata": {},
   "outputs": [
    {
     "name": "stdout",
     "output_type": "stream",
     "text": [
      "Valor original : Word\n",
      "String modificada: WorLD\n"
     ]
    }
   ],
   "source": [
    "import io\n",
    "s1 = \"Word\"\n",
    "print(f\"Valor original : {s1}\")\n",
    "string  = io.StringIO(s1)\n",
    "string.seek(3)\n",
    "string.write(\"LD\")\n",
    "s1= string.getvalue()\n",
    "print (f\"String modificada: { s1}\")"
   ]
  },
  {
   "cell_type": "markdown",
   "id": "fce3a378",
   "metadata": {},
   "source": [
    "## Concaternar String"
   ]
  },
  {
   "cell_type": "code",
   "execution_count": 39,
   "id": "c8474188",
   "metadata": {},
   "outputs": [
    {
     "name": "stdout",
     "output_type": "stream",
     "text": [
      "String 1  : Olá  \n",
      "String 1  : Mundo  \n",
      "String juntadas  : Olá Mundo  \n"
     ]
    }
   ],
   "source": [
    "string1 = \"Olá\"\n",
    "string2 = \"Mundo\"\n",
    "espacao = \" \"\n",
    "\n",
    "print (f\"String 1  : {string1}  \")\n",
    "print (f\"String 1  : {string2}  \")\n",
    "string3  =  string1 + espacao + string2\n",
    "print (f\"String juntadas  : {string3}  \")\n"
   ]
  },
  {
   "cell_type": "markdown",
   "id": "5e586a2b",
   "metadata": {},
   "source": [
    "## Formatação da String"
   ]
  },
  {
   "cell_type": "code",
   "execution_count": 40,
   "id": "a83e470b",
   "metadata": {},
   "outputs": [
    {
     "name": "stdout",
     "output_type": "stream",
     "text": [
      "Meu nome é Italo e eu tenho 25 anos \n"
     ]
    }
   ],
   "source": [
    "from string import Template\n",
    "temp_str = \"Meu nome é $nome e eu tenho $idade anos \"\n",
    "tempo = Template(temp_str)\n",
    "ret = tempo.substitute(nome = \"Italo\", idade = 25)\n",
    "print(ret)"
   ]
  },
  {
   "cell_type": "markdown",
   "id": "98162a5c",
   "metadata": {},
   "source": [
    "## F - STRING"
   ]
  },
  {
   "cell_type": "code",
   "execution_count": 41,
   "id": "33f9c424",
   "metadata": {},
   "outputs": [
    {
     "name": "stdout",
     "output_type": "stream",
     "text": [
      "Meu nome é Italo e minha idade é 234 anos \n"
     ]
    }
   ],
   "source": [
    "name  = \"Italo\"\n",
    "age = 234\n",
    "primeira_string = f\"Meu nome é {name} e minha idade é {age} anos \"\n",
    "print(primeira_string)"
   ]
  },
  {
   "cell_type": "code",
   "execution_count": 48,
   "id": "9a80b743",
   "metadata": {},
   "outputs": [
    {
     "name": "stdout",
     "output_type": "stream",
     "text": [
      "Preco : 78 quantidade : 5 Total a pagar : preco*quantidade =390\n"
     ]
    }
   ],
   "source": [
    "preco = 78\n",
    "quantidade  = 5\n",
    "segunda_string = f'Preco : {preco} quantidade : {quantidade} Total a pagar : {preco*quantidade =}'\n",
    "print(segunda_string)"
   ]
  },
  {
   "cell_type": "code",
   "execution_count": 44,
   "id": "ca17a200",
   "metadata": {},
   "outputs": [
    {
     "name": "stdout",
     "output_type": "stream",
     "text": [
      "My name is Ramesh and I am 23 years old\n"
     ]
    }
   ],
   "source": [
    "user = {'name': 'Ramesh', 'age': 23}\n",
    "fstring = f\"My name is {user['name']} and I am {user['age']} years old\"\n",
    "print (fstring)"
   ]
  },
  {
   "cell_type": "code",
   "execution_count": 45,
   "id": "8719a4bf",
   "metadata": {},
   "outputs": [
    {
     "name": "stdout",
     "output_type": "stream",
     "text": [
      "Total : price*quantity=30\n"
     ]
    }
   ],
   "source": [
    "price = 10\n",
    "quantity = 3\n",
    "fstring = f\"Total : {price*quantity=}\"\n",
    "print (fstring)"
   ]
  },
  {
   "cell_type": "code",
   "execution_count": 50,
   "id": "ec2cbee8",
   "metadata": {},
   "outputs": [
    {
     "name": "stdout",
     "output_type": "stream",
     "text": [
      "Preco : 10 quantidade : 3 Total a pagar : 30\n"
     ]
    }
   ],
   "source": [
    "def somatudo (price, quantidade):\n",
    "    return price*quantidade\n",
    "\n",
    "preco = 10\n",
    "quantidade = 3\n",
    "\n",
    "segunda_string = f'Preco : {preco} quantidade : {quantidade} Total a pagar : {somatudo(preco,quantidade)}'\n",
    "print(segunda_string)\n"
   ]
  },
  {
   "cell_type": "markdown",
   "id": "2943118f",
   "metadata": {},
   "source": [
    "### Manipulação de string com ponto fluante"
   ]
  },
  {
   "cell_type": "code",
   "execution_count": 58,
   "id": "b12e8997",
   "metadata": {},
   "outputs": [
    {
     "name": "stdout",
     "output_type": "stream",
     "text": [
      "My name is Rajesh and I am 23 years old and I have scored   55.5 percent marks\n"
     ]
    }
   ],
   "source": [
    "name=\"Rajesh\"\n",
    "age=23\n",
    "percent=55.50\n",
    "\n",
    "fstring = f\"My name is {name} and I am {age} years old and I have scored {percent:6.1f} percent marks\"\n",
    "print (fstring)"
   ]
  },
  {
   "cell_type": "markdown",
   "id": "1c0f9867",
   "metadata": {},
   "source": [
    "### Python - Formatação de cadeia de caracteres usando o método format()"
   ]
  },
  {
   "cell_type": "code",
   "execution_count": 59,
   "id": "4d6cd204",
   "metadata": {},
   "outputs": [
    {
     "name": "stdout",
     "output_type": "stream",
     "text": [
      "my name is Rajesh and my age is 23 years\n"
     ]
    }
   ],
   "source": [
    "name=\"Rajesh\"\n",
    "age=23\n",
    "print (\"my name is {} and my age is {} years\".format(name, age))"
   ]
  },
  {
   "cell_type": "code",
   "execution_count": 60,
   "id": "9e68f6c6",
   "metadata": {},
   "outputs": [
    {
     "name": "stdout",
     "output_type": "stream",
     "text": [
      "my name is Rajesh and my age is 23 years\n"
     ]
    }
   ],
   "source": [
    "name=\"Rajesh\"\n",
    "age=23\n",
    "print (\"my name is {:s} and my age is {:d} years\".format(name, age))"
   ]
  },
  {
   "cell_type": "code",
   "execution_count": 61,
   "id": "f6fc905e",
   "metadata": {},
   "outputs": [
    {
     "name": "stdout",
     "output_type": "stream",
     "text": [
      "my name is Rajesh, age 23 and I have scored 55.500 percent marks\n"
     ]
    }
   ],
   "source": [
    "name=\"Rajesh\"\n",
    "age=23\n",
    "percent=55.50\n",
    "print (\"my name is {:s}, age {:d} and I have scored {:6.3f} percent marks\".format(name, age, percent))"
   ]
  },
  {
   "cell_type": "code",
   "execution_count": null,
   "id": "b0b56b12",
   "metadata": {},
   "outputs": [],
   "source": [
    "digits = [str(x) for x in range(10)]\n",
    "mystr = 'He12llo, Py00th55on!'\n",
    "chars = []\n",
    "for x in mystr:\n",
    "   if x not in digits:\n",
    "      chars.append(x)\n",
    "newstr = ''.join(chars)\n",
    "print (newstr)"
   ]
  },
  {
   "cell_type": "code",
   "execution_count": null,
   "id": "f94d7290",
   "metadata": {},
   "outputs": [],
   "source": [
    "mystring = \"Hoje eu vou tomar cana o dia todo\"\n",
    "busca = \"aeio\"\n",
    "cont = 0\n",
    "\n",
    "for x in mystring:\n",
    "    if x.lower() in busca: cont+= 1\n",
    "    \n",
    "print(f\"Numero de vogais : {cont}\")"
   ]
  }
 ],
 "metadata": {
  "kernelspec": {
   "display_name": "Python 3 (ipykernel)",
   "language": "python",
   "name": "python3"
  },
  "language_info": {
   "codemirror_mode": {
    "name": "ipython",
    "version": 3
   },
   "file_extension": ".py",
   "mimetype": "text/x-python",
   "name": "python",
   "nbconvert_exporter": "python",
   "pygments_lexer": "ipython3",
   "version": "3.12.1"
  }
 },
 "nbformat": 4,
 "nbformat_minor": 5
}
