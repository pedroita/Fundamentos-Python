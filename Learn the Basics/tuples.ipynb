{
 "cells": [
  {
   "cell_type": "code",
   "execution_count": null,
   "metadata": {
    "vscode": {
     "languageId": "plaintext"
    }
   },
   "outputs": [],
   "source": [
    "arrayT1 = (1, 2, 3)\n",
    "arrayT2 = ('a', 'b', 'c')\n",
    "arrayT3 = (1, \"hello\", 3.14)\n",
    "existe_elemento_1 = 1 in arrayT1\n",
    "print(existe_elemento_1)\n",
    "\n",
    "print(arrayT1)\n",
    "print(arrayT2)\n",
    "print(arrayT3)\n"
   ]
  }
 ],
 "metadata": {
  "language_info": {
   "name": "python"
  }
 },
 "nbformat": 4,
 "nbformat_minor": 2
}
