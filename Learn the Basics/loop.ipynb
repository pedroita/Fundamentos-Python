{
 "cells": [
  {
   "cell_type": "markdown",
   "metadata": {},
   "source": [
    "### While"
   ]
  },
  {
   "cell_type": "code",
   "execution_count": null,
   "metadata": {},
   "outputs": [],
   "source": [
    "contador = 0\n",
    "while contador < 5: \n",
    "\n",
    "    print(\"Contagem:\", contador) \n",
    "\n",
    "    contador += 1"
   ]
  },
  {
   "cell_type": "markdown",
   "metadata": {},
   "source": [
    "### For\n"
   ]
  },
  {
   "cell_type": "code",
   "execution_count": null,
   "metadata": {},
   "outputs": [],
   "source": [
    "frutas = ['maca','banana', 'Laranja']\n",
    "for fruta in frutas:\n",
    "    print(fruta)"
   ]
  },
  {
   "cell_type": "markdown",
   "metadata": {},
   "source": [
    "### Exemplo while e for"
   ]
  },
  {
   "cell_type": "code",
   "execution_count": null,
   "metadata": {},
   "outputs": [],
   "source": [
    "numero_escolhido = 9\n",
    "entrada = int(input(\"digite um numero  entre 0 e 10: \"))\n",
    "\n",
    "while entrada!= numero_escolhido:\n",
    "    print(\"Voce erro, digite novamente\")\n",
    "    entrada = int(input(\"digite um numero  entre 0 e 10: \"))\n",
    "\n",
    "    \n",
    "print(\"Voce acertou!\")\n",
    "\n",
    "cont = 0\n",
    "\n",
    "while cont <10:\n",
    "    print (cont)\n",
    "    cont= cont + 1\n",
    "\n",
    "\n",
    "\n",
    "for i  in range(1,50,9):\n",
    "    print (i)\n",
    "\n",
    "soma = 0\n",
    "\n",
    "for i in range (1,4):\n",
    "    notas= float(input(f\"Digte sua nota {i}: \"))\n",
    "    soma = soma + notas\n",
    "\n",
    "\n",
    "print(soma/3)"
   ]
  },
  {
   "cell_type": "code",
   "execution_count": null,
   "metadata": {},
   "outputs": [],
   "source": [
    "repeticao = int(input(\"Quantas vezes você deseja realizar uma interação: \"))\n",
    "for index in range(0, repeticao):\n",
    "    print(index)\n",
    "    \n",
    "for interacao in \" bem vindo \":\n",
    "    print(interacao)\n",
    "    \n",
    "for palavras in [\" banana\", \"pera\", \"pera\"]:\n",
    "    print (palavras)\n",
    "\n",
    "cores = [ \"Amarelo\", \"vermelho\", \"Verde\"]\n",
    "\n",
    "for emcor in cores:\n",
    "    print(f\"Essa é acor {emcor}\")"
   ]
  },
  {
   "cell_type": "code",
   "execution_count": null,
   "metadata": {},
   "outputs": [],
   "source": [
    "entrada = int(input(\"Digite quanto quer repetir: \"))\n",
    "cont =1\n",
    "while cont < entrada:\n",
    "    print (f\"{cont}\")\n",
    "    cont+=1\n",
    "\n"
   ]
  },
  {
   "cell_type": "code",
   "execution_count": null,
   "metadata": {},
   "outputs": [],
   "source": [
    "while True:\n",
    "    entrada = int(input(\"Digite quanto quer repetir: \"))\n",
    "    print(f\"Valor digitado foi : {entrada}\")\n",
    "    if entrada == 0:\n",
    "        print(\"Programa sendo finalizado...\")\n",
    "        break"
   ]
  },
  {
   "cell_type": "code",
   "execution_count": null,
   "metadata": {},
   "outputs": [],
   "source": [
    "i =0\n",
    "while i< 100:\n",
    "    print(f\"O numero agora é {i}\")\n",
    "    i+=1"
   ]
  }
 ],
 "metadata": {
  "kernelspec": {
   "display_name": "Python 3",
   "language": "python",
   "name": "python3"
  },
  "language_info": {
   "name": "python",
   "version": "3.12.4"
  }
 },
 "nbformat": 4,
 "nbformat_minor": 2
}
