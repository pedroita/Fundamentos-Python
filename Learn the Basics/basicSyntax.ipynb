{
 "cells": [
  {
   "cell_type": "markdown",
   "metadata": {},
   "source": [
    "### Importações"
   ]
  },
  {
   "cell_type": "code",
   "execution_count": null,
   "metadata": {},
   "outputs": [],
   "source": [
    "from datetime import datetime,timedelta\n",
    "data_atual = datetime.now()\n",
    "um_dia = timedelta(days = 1)\n",
    "data_anterior = data_atual - um_dia\n",
    "data_posterior = data_atual + um_dia\n",
    "#data_formatada = data_atual.strftime(\"%d/%m/%Y\")\n",
    "print(data_anterior)\n",
    "print(data_posterior)\n",
    "\n"
   ]
  },
  {
   "cell_type": "markdown",
   "metadata": {},
   "source": [
    "#### Entradas de dados"
   ]
  },
  {
   "cell_type": "code",
   "execution_count": null,
   "metadata": {},
   "outputs": [],
   "source": [
    "input(\"Digite seu nome: \")\n",
    "print('Dia', 'Mês', 'Ano' , sep='/')\n",
    "print('Dia', 'Mês', 'Ano' , sep='-')\n",
    "print('B', 'n', 'n' , \"-\" ,  sep='a')\n",
    "\n",
    "\n",
    "print(\"Vamos a praia hoje\", end='')\n",
    "\n",
    "\n",
    "print(\"Vamos a praia hoje\", end='->')\n",
    "print()\n",
    "print(\"Quantidade\", end=':')\n",
    "\n",
    "\n",
    "with open(\"Arquivo.txt\", 'W') as arquivo:\n",
    "    print(\"Esse é um teste dentro do arquivo, \",  file=arquivo)"
   ]
  },
  {
   "cell_type": "code",
   "execution_count": null,
   "metadata": {},
   "outputs": [],
   "source": [
    "# atribuição de variaveis\n",
    "idade = 10\n",
    "altura = 1.75\n",
    "numero_complexo = 2+3j\n",
    "nome = 'italo'\n",
    "mensagem = 'olá ' + nome + '! Bem-vindo ao Fit'\n",
    "\n",
    "# Concatenar strings\n",
    "palavra1 = 'Ola'\n",
    "palavra2 = ', Mundo'\n",
    "resultado = palavra1 + palavra2\n",
    "\n",
    "contPalavra = len(resultado)\n",
    "\n",
    "acessaPalavra = resultado[0]\n",
    "pecorrePalavra = resultado[-1]\n",
    "\n",
    "# manipulação de variaveis\n",
    "a = 5\n",
    "b = 57\n",
    "c = a+b\n",
    "d = a-b\n",
    "f = a/b\n",
    "\n",
    "\n",
    "# boleans\n",
    "eVerdade = True\n",
    "efalso = False\n"
   ]
  },
  {
   "cell_type": "code",
   "execution_count": null,
   "metadata": {},
   "outputs": [],
   "source": [
    "print(\"2 < 5 =\", 2 < 5)\n",
    "print(\"9 >10 =\" ,9>10)\n",
    "print(\"8 != 10 =\", 8!=10)\n",
    "print(\"Python != perl =\", \"Python\" != \"python\")\n",
    "print(\"Python != perl =\", \"python\" == \"python\")\n",
    "\n",
    "\"eu\" == \"eu\"\n",
    "\n",
    "\n",
    "\n"
   ]
  }
 ],
 "metadata": {
  "kernelspec": {
   "display_name": "Python 3",
   "language": "python",
   "name": "python3"
  },
  "language_info": {
   "codemirror_mode": {
    "name": "ipython",
    "version": 3
   },
   "file_extension": ".py",
   "mimetype": "text/x-python",
   "name": "python",
   "nbconvert_exporter": "python",
   "pygments_lexer": "ipython3",
   "version": "3.12.4"
  }
 },
 "nbformat": 4,
 "nbformat_minor": 2
}
