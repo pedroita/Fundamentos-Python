{
 "cells": [
  {
   "cell_type": "code",
   "execution_count": null,
   "metadata": {
    "vscode": {
     "languageId": "plaintext"
    }
   },
   "outputs": [],
   "source": [
    "my_dict = {\"book\": \"physical objects consisting of a number of pages bound together\",\n",
    "           \"sword\": \"a cutting or thrusting weapon that has a long metal blade\",\n",
    "           \"pie\": \"dish baked in pastry-lined pan often with a pastry top\"}"
   ]
  },
  {
   "cell_type": "code",
   "execution_count": null,
   "metadata": {
    "vscode": {
     "languageId": "plaintext"
    }
   },
   "outputs": [],
   "source": [
    "my_dict[\"pie\"]\n",
    "descrip = my_dict [\"sword\"]\n",
    "print(descrip)\n",
    "print(my_dict.values)\n",
    "print(my_dict.keys)"
   ]
  },
  {
   "cell_type": "code",
   "execution_count": null,
   "metadata": {
    "vscode": {
     "languageId": "plaintext"
    }
   },
   "outputs": [],
   "source": [
    "aluno = {\"nome\": \"Carlos\", \"idade\": 25, \"altura\": 1.75}\n",
    "\n",
    "if 'pedro' in aluno:\n",
    "    print(\"Nome pertence ao dicioanario\")\n",
    "elif 'idade' in aluno:\n",
    "    print(\"NÃO DEU CERTO\")\n",
    "else : print(\"não deu certo\")\n"
   ]
  }
 ],
 "metadata": {
  "language_info": {
   "name": "python"
  }
 },
 "nbformat": 4,
 "nbformat_minor": 2
}
