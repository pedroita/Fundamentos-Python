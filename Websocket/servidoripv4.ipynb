{
 "cells": [
  {
   "cell_type": "code",
   "execution_count": null,
   "metadata": {},
   "outputs": [],
   "source": [
    "import socket \n",
    "\n",
    "host = ''\n",
    "porta =  8080 \n",
    "with socket.socket(socket.AF_INET,socket.SOCK_STREAM) as  s :\n",
    "    s.bind((host,porta))\n",
    "    s.listen(1)\n",
    "    conn, addr = s.accept()\n",
    "    with conn:\n",
    "        print(f\"Conectado {addr}\")\n",
    "        while True:\n",
    "            data = conn.recv(1024)\n",
    "            if not data : break\n",
    "            conn.sendall(data)"
   ]
  }
 ],
 "metadata": {
  "kernelspec": {
   "display_name": "Python 3",
   "language": "python",
   "name": "python3"
  },
  "language_info": {
   "codemirror_mode": {
    "name": "ipython",
    "version": 3
   },
   "file_extension": ".py",
   "mimetype": "text/x-python",
   "name": "python",
   "nbconvert_exporter": "python",
   "pygments_lexer": "ipython3",
   "version": "3.12.1"
  }
 },
 "nbformat": 4,
 "nbformat_minor": 2
}
