{
 "cells": [
  {
   "cell_type": "code",
   "execution_count": null,
   "metadata": {},
   "outputs": [],
   "source": [
    "import socket\n",
    "host =' pedro.italo.cwi.nl'\n",
    "porta =  8080\n",
    "\n",
    "with socket.socket(socket.AF_INET,socket.SOCK_STREAM) as s:\n",
    "    s.connect((host,porta))\n",
    "    s.sendall(b'ola mundo')\n",
    "    data = s.recv(1024)\n",
    "print(f\"{repr(data)}\")"
   ]
  }
 ],
 "metadata": {
  "kernelspec": {
   "display_name": "Python 3",
   "language": "python",
   "name": "python3"
  },
  "language_info": {
   "codemirror_mode": {
    "name": "ipython",
    "version": 3
   },
   "file_extension": ".py",
   "mimetype": "text/x-python",
   "name": "python",
   "nbconvert_exporter": "python",
   "pygments_lexer": "ipython3",
   "version": "3.12.1"
  }
 },
 "nbformat": 4,
 "nbformat_minor": 2
}
