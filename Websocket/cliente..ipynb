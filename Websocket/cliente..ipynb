{
 "cells": [
  {
   "cell_type": "code",
   "execution_count": 1,
   "metadata": {},
   "outputs": [],
   "source": [
    "import socket\n",
    "host = \"www.google.com\"\n",
    "porta  = 80\n",
    "\n"
   ]
  },
  {
   "cell_type": "code",
   "execution_count": 9,
   "metadata": {},
   "outputs": [
    {
     "name": "stdout",
     "output_type": "stream",
     "text": [
      "HTTP/1.1 301 Moved Permanently\n",
      "Location: http://www.google.com/\n",
      "Content-Type: text/html; charset=UTF-8\n",
      "Content-Security-Policy-Report-Only: object-src 'none';base-uri 'self';script-src 'nonce-rssM6N3zLsuQZZ5cGsXZlg' 'strict-dynamic' 'report-sample' 'unsafe-eval' 'unsafe-inline' https: http:;report-uri https://csp.withgoogle.com/csp/gws/other-hp\n",
      "Date: Fri, 29 Mar 2024 03:12:05 GMT\n",
      "Expires: Sun, 28 Apr 2024 03:12:05 GMT\n",
      "Cache-Control: public, max-age=2592000\n",
      "Server: gws\n",
      "Content-Length: 219\n",
      "X-XSS-Protection: 0\n",
      "X-Frame-Options: SAMEORIGIN\n",
      "\n",
      "<HTML><HEAD><meta http-equiv=\"content-type\" content=\"text/html;charset=utf-8\">\n",
      "<TITLE>301 Moved</TITLE></HEAD><BODY>\n",
      "<H1>301 Moved</H1>\n",
      "The document has moved\n",
      "<A HREF=\"http://www.google.com/\">here</A>.\n",
      "</BODY></HTML>\n",
      "\n"
     ]
    }
   ],
   "source": [
    "cliente  = socket.socket(socket.AF_INET, socket.SOCK_STREAM)\n",
    "cliente.connect((host,porta))\n",
    "cliente.send(b\"GET  / HTTP/1.1\\r\\nHost: google.com\\r\\n\\r\\n\")\n",
    "\n",
    "reponse = cliente.recv(4096)\n",
    "print(reponse.decode())\n",
    "cliente.close()"
   ]
  }
 ],
 "metadata": {
  "kernelspec": {
   "display_name": "Python 3",
   "language": "python",
   "name": "python3"
  },
  "language_info": {
   "codemirror_mode": {
    "name": "ipython",
    "version": 3
   },
   "file_extension": ".py",
   "mimetype": "text/x-python",
   "name": "python",
   "nbconvert_exporter": "python",
   "pygments_lexer": "ipython3",
   "version": "3.12.1"
  }
 },
 "nbformat": 4,
 "nbformat_minor": 2
}
