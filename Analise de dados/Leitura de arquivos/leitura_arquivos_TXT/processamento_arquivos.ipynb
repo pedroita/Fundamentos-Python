{
 "cells": [
  {
   "cell_type": "code",
   "execution_count": null,
   "metadata": {},
   "outputs": [],
   "source": [
    "file = open (\"data/teste.txt\")\n",
    "texto = file.read()\n",
    "print(texto.count(\"an\"))\n",
    "number_of_es = texto.count(\"e\")\n",
    "print(f\"Numero total de E:\" , number_of_es)\n",
    "print(texto.split())\n",
    "\n",
    "words = texto.split()\n",
    "numero_of_hits = 0\n",
    "\n",
    "item_to_count = 'in'\n",
    "for word in words:\n",
    "    if word == item_to_count:\n",
    "        numero_of_hits+= 1\n",
    "print(numero_of_hits)\n",
    "file.close()\n",
    "\n",
    "\n"
   ]
  },
  {
   "cell_type": "code",
   "execution_count": null,
   "metadata": {},
   "outputs": [],
   "source": [
    "with open(\"data/biblia.txt\", encoding=\"utf-8\") as filebibi:\n",
    "    texto_biblia = filebibi.read()\n",
    "print (texto_biblia.count(\"Jesus\"))\n",
    "print (texto_biblia.count(\"maria\"))\n",
    "print (texto_biblia.count(\"Cristo\"))\n",
    "print (texto_biblia.count(\"Jesus Cristo\"))\n",
    "print (texto_biblia.count(\"Deus\"))\n",
    "print (texto_biblia.count(\"Senhor\"))\n",
    "print (texto_biblia.count(\"Senhor Deus\"))\n",
    "\n",
    "\n",
    "\n"
   ]
  },
  {
   "cell_type": "code",
   "execution_count": 41,
   "metadata": {},
   "outputs": [],
   "source": [
    "file = open(\"exemplo.txt\", \"a\", encoding='utf-8')\n",
    "\n",
    "# file = open(\"exemplo.txt\", \"w\")\n",
    "# file = open(\"exemplo.txt\", \"a\")\n",
    "\n",
    "\n",
    "# print(file.read())\n",
    "# print(file.readline())\n",
    "# print(file.readlines())\n",
    "\n",
    "file.write(f\"Deu certo,ohh {9888.0}\")\n",
    "file.write(f\"Deu certo,ohh {9888.0}\\n\")\n",
    "file.write(f\"Deu certo,ohh {9888.0}\\n\")\n",
    "file.write(f\"Deu certo,ohh {9888.0}\\n\")\n",
    "\n",
    "\n",
    "file.close()"
   ]
  },
  {
   "cell_type": "code",
   "execution_count": null,
   "metadata": {},
   "outputs": [],
   "source": [
    "import os\n",
    "import shutil\n",
    "\n",
    "os.mkdir(\"extrato\")\n",
    "file  = open(\"extrado.txt\",\"w\")\n"
   ]
  },
  {
   "cell_type": "code",
   "execution_count": null,
   "metadata": {},
   "outputs": [],
   "source": [
    "import os\n",
    "\n",
    "# Nome da pasta e do arquivo\n",
    "folder_name = \"extratos\"\n",
    "file_name = \"extrato.txt\"\n",
    "\n",
    "# Verifica se a pasta já existe, e se não existir, cria a pasta\n",
    "if not os.path.exists(folder_name):\n",
    "    os.mkdir(folder_name)\n",
    "    print(f\"Pasta '{folder_name}' criada.\")\n",
    "else:\n",
    "    print(f\"Pasta '{folder_name}' já existe.\")\n",
    "\n",
    "# Caminho completo do arquivo\n",
    "file_path = os.path.join(folder_name, file_name)\n",
    "\n",
    "# Cria o arquivo se ele não existir\n",
    "if not os.path.exists(file_path):\n",
    "    with open(file_path, \"x\", encoding='utf-8') as file:\n",
    "        pass  # Cria o arquivo vazio\n",
    "    print(f\"Arquivo '{file_name}' criado na pasta '{folder_name}'.\")\n",
    "else:\n",
    "    print(f\"Arquivo '{file_name}' já existe na pasta '{folder_name}'.\")\n"
   ]
  }
 ],
 "metadata": {
  "kernelspec": {
   "display_name": "Python 3 (ipykernel)",
   "language": "python",
   "name": "python3"
  },
  "language_info": {
   "codemirror_mode": {
    "name": "ipython",
    "version": 3
   },
   "file_extension": ".py",
   "mimetype": "text/x-python",
   "name": "python",
   "nbconvert_exporter": "python",
   "pygments_lexer": "ipython3",
   "version": "3.12.1"
  }
 },
 "nbformat": 4,
 "nbformat_minor": 4
}
