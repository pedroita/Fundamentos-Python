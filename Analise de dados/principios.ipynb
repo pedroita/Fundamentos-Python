{
 "cells": [
  {
   "cell_type": "code",
   "execution_count": 1,
   "metadata": {},
   "outputs": [
    {
     "name": "stdout",
     "output_type": "stream",
     "text": [
      "[('@Fox', '@Judie'), ('@Tristan', '@Jermain'), ('@Allyn', '@Winfred'), ('@Dennis', '@Randolph'), ('@Wallie', '@Venkat'), ('@Siddhartha', '@Nunzio'), ('@Leena', '@Minna'), ('@Hildagard', '@Nanine'), ('@Margalit', '@Jermayne'), ('@Berty', '@Flynn')]\n"
     ]
    }
   ],
   "source": [
    "arestas = []\n",
    "for linha in open(\"twitter.txt\"):\n",
    "    nome_a, name_b = linha.strip().split(';')\n",
    "    arestas.append((nome_a,name_b))\n",
    "print(arestas[:10])"
   ]
  },
  {
   "cell_type": "code",
   "execution_count": 3,
   "metadata": {},
   "outputs": [
    {
     "name": "stdout",
     "output_type": "stream",
     "text": [
      "['@Theresita', '@Hildagard', '@Charisse', '@Elfreda', '@Bartholomeo', '@Claire', '@Isaac', '@Lincoln', '@Fox', '@Janaya', '@Leo', '@Theo', '@Lynsey', '@Dode', '@Winfred', '@Esma', '@Ward', '@Susan', '@Leeann', '@Herold', '@Roseanna', '@Hermy', '@Ozzie', '@Jerzy', '@Batholomew', '@Dennis', '@Nicholas', '@Rey', '@Ruthann', '@Dove', '@Vina', '@Reuben', '@Mandi', '@Englebart', '@Gregg', '@Ruperto', '@Dominique', '@Kat', '@Rosalinde', '@Erasmus', '@Nunzio', '@Zelig', '@Butler', '@Randolph', '@Vaughn', '@Herman', '@Winton', '@Antonino', '@Egbert', '@June', '@Terry', '@Tibold', '@Andrej', '@Christina', '@Hiram', '@Elric', '@Allyson', '@Tova', '@Antonietta', '@Gusella', '@Jerald', '@Morgen', '@Kial', '@Reeba', '@Nathanael', '@Jermain', '@Bobbi', '@Tristan', '@Karl', '@Lance', '@Connor']\n"
     ]
    }
   ],
   "source": [
    "def seguidores_relacioandos(usuarios, areastas):\n",
    "    seguidores = []\n",
    "    for seguidor, seguidorr in areastas:\n",
    "        if seguidor == usuarios:\n",
    "            seguidores.append(seguidorr)\n",
    "    return seguidores\n",
    "print(seguidores_relacioandos(\"@Judie\",arestas))"
   ]
  },
  {
   "cell_type": "code",
   "execution_count": 4,
   "metadata": {},
   "outputs": [
    {
     "name": "stdout",
     "output_type": "stream",
     "text": [
      "CPU times: total: 0 ns\n",
      "Wall time: 0 ns\n"
     ]
    },
    {
     "data": {
      "text/plain": [
       "['@Judie',\n",
       " '@Charis',\n",
       " '@Englebart',\n",
       " '@Leo',\n",
       " '@Quintus',\n",
       " '@Cris',\n",
       " '@Roseanna',\n",
       " '@Kate',\n",
       " '@Connor',\n",
       " '@Marena',\n",
       " '@Lance',\n",
       " '@Yelena',\n",
       " '@Winfred',\n",
       " '@Tania',\n",
       " '@Herman',\n",
       " '@Carmon',\n",
       " '@Zebadiah',\n",
       " '@Inna',\n",
       " '@Antonietta',\n",
       " '@Esma',\n",
       " '@Jennica',\n",
       " '@Alton',\n",
       " '@Kia',\n",
       " '@Susan',\n",
       " '@Hildagard',\n",
       " '@Tova',\n",
       " '@June',\n",
       " '@Siddhartha',\n",
       " '@Vaughn',\n",
       " '@Leeann',\n",
       " '@Ozzie',\n",
       " '@Berty',\n",
       " '@Morgen',\n",
       " '@Randolph',\n",
       " '@Quinlan',\n",
       " '@Mandi',\n",
       " '@Wallie',\n",
       " '@Jermayne',\n",
       " '@Flynn',\n",
       " '@Herold',\n",
       " '@Christina',\n",
       " '@Reuben',\n",
       " '@Verge',\n",
       " '@Hildy',\n",
       " '@Nathanael',\n",
       " '@Jaquith',\n",
       " '@Jennette',\n",
       " '@Dode',\n",
       " '@Arianne',\n",
       " '@Garrot',\n",
       " '@Terry',\n",
       " '@Butler',\n",
       " '@Philippa',\n",
       " '@Gae',\n",
       " '@Kat',\n",
       " '@Rana',\n",
       " '@Elnar',\n",
       " '@Rey',\n",
       " '@Jermaine',\n",
       " '@Wittie',\n",
       " '@Arlinda',\n",
       " '@Nunzio',\n",
       " '@Andrej',\n",
       " '@Gusella',\n",
       " '@Malcah',\n",
       " '@Joelle',\n",
       " '@Tristan',\n",
       " '@Lorrin',\n",
       " '@Giles',\n",
       " '@Garth',\n",
       " '@Millicent',\n",
       " '@Gregg',\n",
       " '@Allyn',\n",
       " '@Jermain',\n",
       " '@Erasmus',\n",
       " '@Nita',\n",
       " '@Aviva',\n",
       " '@Halvard',\n",
       " '@Tomi',\n",
       " '@Winton',\n",
       " '@Tibold',\n",
       " '@Lynsey',\n",
       " '@Reeba',\n",
       " '@Rafa',\n",
       " '@Vina',\n",
       " '@Leah',\n",
       " '@Kial',\n",
       " '@Bartholomeo',\n",
       " '@Claire',\n",
       " '@Venkat',\n",
       " '@Lindi',\n",
       " '@Wake',\n",
       " '@Hiram']"
      ]
     },
     "execution_count": 4,
     "metadata": {},
     "output_type": "execute_result"
    }
   ],
   "source": [
    "%time seguidores_relacioandos(\"@Fox\", arestas)"
   ]
  },
  {
   "cell_type": "code",
   "execution_count": 6,
   "metadata": {},
   "outputs": [],
   "source": [
    "edge_dict = {}\n",
    "for line in open(\"twitter.txt\"):\n",
    "    name_a, name_b = line.strip().split(';')\n",
    "    if name_a in edge_dict:\n",
    "        edge_dict[name_a].append(name_b)\n",
    "    else:\n",
    "        edge_dict[name_a] = [name_b]"
   ]
  },
  {
   "cell_type": "code",
   "execution_count": 7,
   "metadata": {},
   "outputs": [],
   "source": [
    "def following2(user, edges):\n",
    "    return edges[user]"
   ]
  },
  {
   "cell_type": "code",
   "execution_count": 8,
   "metadata": {},
   "outputs": [
    {
     "name": "stdout",
     "output_type": "stream",
     "text": [
      "55.1 ns ± 0.599 ns per loop (mean ± std. dev. of 7 runs, 10,000,000 loops each)\n"
     ]
    }
   ],
   "source": [
    "%timeit following2(\"@Fox\", edge_dict)"
   ]
  }
 ],
 "metadata": {
  "kernelspec": {
   "display_name": "Python 3",
   "language": "python",
   "name": "python3"
  },
  "language_info": {
   "codemirror_mode": {
    "name": "ipython",
    "version": 3
   },
   "file_extension": ".py",
   "mimetype": "text/x-python",
   "name": "python",
   "nbconvert_exporter": "python",
   "pygments_lexer": "ipython3",
   "version": "3.12.1"
  }
 },
 "nbformat": 4,
 "nbformat_minor": 2
}
