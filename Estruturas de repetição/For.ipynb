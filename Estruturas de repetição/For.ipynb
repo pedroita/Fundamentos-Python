{
 "cells": [
  {
   "cell_type": "code",
   "execution_count": null,
   "metadata": {},
   "outputs": [],
   "source": [
    "frutas = ['maca','banana', 'Laranja']\n",
    "for fruta in frutas:\n",
    "    print(fruta)\n"
   ]
  }
 ],
 "metadata": {
  "language_info": {
   "name": "python"
  }
 },
 "nbformat": 4,
 "nbformat_minor": 2
}
