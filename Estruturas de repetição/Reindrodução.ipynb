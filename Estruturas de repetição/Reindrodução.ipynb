{
 "cells": [
  {
   "cell_type": "code",
   "execution_count": 56,
   "metadata": {},
   "outputs": [
    {
     "name": "stdout",
     "output_type": "stream",
     "text": [
      "Ola mundo!\n"
     ]
    }
   ],
   "source": [
    "print(\"Ola mundo!\")"
   ]
  },
  {
   "cell_type": "markdown",
   "metadata": {},
   "source": [
    "Pegando senhas"
   ]
  },
  {
   "cell_type": "code",
   "execution_count": 1,
   "metadata": {},
   "outputs": [
    {
     "name": "stdout",
     "output_type": "stream",
     "text": [
      "dsada\n",
      "5\n"
     ]
    }
   ],
   "source": [
    "from getpass import getpass\n",
    "\n",
    "usuario = input(\"Defina seu nome de usuario: \")\n",
    "senha = getpass(\"Defina uma senha para seu usario: \")\n",
    "print(f'{senha}')\n",
    "print(len(senha))"
   ]
  },
  {
   "cell_type": "markdown",
   "metadata": {},
   "source": [
    "# expressões regulares"
   ]
  },
  {
   "cell_type": "code",
   "execution_count": null,
   "metadata": {},
   "outputs": [
    {
     "name": "stdout",
     "output_type": "stream",
     "text": [
      "[\"Python's\", 'name', 'is', 'derived', 'from', 'the', 'television', 'series', 'Monty', \"Python's\", 'Flying', 'Circus.']\n",
      "['eu', 'amo', 'a', 'livia', 'nascimento']\n",
      "['amo', 'a']\n",
      "['Esta', ' frase', ' esta ', ' quebrada']\n"
     ]
    }
   ],
   "source": [
    "\n",
    "# import re\n",
    "\n",
    "# frase=\"Esta# frase@ esta @ quebrada\"\n",
    "# palavras2=re.split('@|#',frase)\n",
    "# palavras=frase.split(\"@\")\n",
    "# print(palavras2)"
   ]
  },
  {
   "cell_type": "markdown",
   "metadata": {},
   "source": [
    "## List"
   ]
  },
  {
   "cell_type": "code",
   "execution_count": null,
   "metadata": {},
   "outputs": [
    {
     "name": "stdout",
     "output_type": "stream",
     "text": [
      "[1223, 1456, 'name space']\n"
     ]
    }
   ],
   "source": [
    "list =  []\n",
    "list.append(1223)\n",
    "list.append(1456)\n",
    "list.append(\"name space\")\n",
    "print(list)"
   ]
  },
  {
   "cell_type": "markdown",
   "metadata": {},
   "source": [
    "#### Adicionando por posição"
   ]
  },
  {
   "cell_type": "code",
   "execution_count": null,
   "metadata": {},
   "outputs": [
    {
     "name": "stdout",
     "output_type": "stream",
     "text": [
      "['Ola mundo na posição 0', 1456, 'name space']\n",
      "['Ola mundo na posição 0', 1456, 'Ola mundo na posição 3']\n"
     ]
    }
   ],
   "source": [
    "list[0]= \"Ola mundo na posição 0\"\n",
    "print(list)\n",
    "list[2]= \"Ola mundo na posição 3\"\n",
    "print(list)"
   ]
  },
  {
   "cell_type": "code",
   "execution_count": null,
   "metadata": {},
   "outputs": [
    {
     "name": "stdout",
     "output_type": "stream",
     "text": [
      "['Ola mundo na posição 0', 1456, 'Ola mundo na posição 4']\n"
     ]
    }
   ],
   "source": [
    "print(list)"
   ]
  },
  {
   "cell_type": "markdown",
   "metadata": {},
   "source": [
    "### Mudar posição no vetor"
   ]
  },
  {
   "cell_type": "code",
   "execution_count": null,
   "metadata": {},
   "outputs": [
    {
     "name": "stdout",
     "output_type": "stream",
     "text": [
      "['L', 'I', 'V', 'I', 'A']\n",
      "['P', 'I', 'V', 'I', 'A']\n",
      "['P', 'I', 'V', 'I', 'A']\n",
      "PIVIA\n"
     ]
    }
   ],
   "source": [
    "nomeArray = [\"L\", \"I\", \"V\", \"I\", \"A\"]\n",
    "print(str(nomeArray))\n",
    "\n",
    "nomeArray[0]= \"P\"\n",
    "print(nomeArray)\n",
    "print(str(nomeArray))\n",
    "print(''.join(nomeArray))\n"
   ]
  },
  {
   "cell_type": "markdown",
   "metadata": {},
   "source": [
    "------"
   ]
  },
  {
   "cell_type": "code",
   "execution_count": null,
   "metadata": {},
   "outputs": [
    {
     "name": "stdout",
     "output_type": "stream",
     "text": [
      "['Ola mundo na posição 3']\n"
     ]
    }
   ],
   "source": [
    "list.remove(list[0])\n",
    "print(list)"
   ]
  },
  {
   "cell_type": "markdown",
   "metadata": {},
   "source": [
    "------"
   ]
  },
  {
   "cell_type": "code",
   "execution_count": null,
   "metadata": {},
   "outputs": [
    {
     "name": "stdout",
     "output_type": "stream",
     "text": [
      "['Bem vindo aqui em casa', 'Ola mundo na posição 3']\n"
     ]
    }
   ],
   "source": [
    "list.append(\"Bem vindo aqui em casa\")\n",
    "list.sort()\n",
    "print(list)"
   ]
  },
  {
   "cell_type": "markdown",
   "metadata": {},
   "source": [
    "------"
   ]
  },
  {
   "cell_type": "markdown",
   "metadata": {},
   "source": [
    "### Matrizes"
   ]
  },
  {
   "cell_type": "code",
   "execution_count": 62,
   "metadata": {},
   "outputs": [
    {
     "name": "stdout",
     "output_type": "stream",
     "text": [
      "[[1, 2, 3, 4], [5, 6, 7, 8]]\n",
      "adicionado o 1 a lista \n",
      "[1]\n",
      "adicionado o 2 a lista \n",
      "[1, 2]\n",
      "adicionado o 3 a lista \n",
      "[1, 2, 3]\n",
      "adicionado o 4 a lista \n",
      "[1, 2, 3, 4]\n",
      "adicionado o 5 a lista \n",
      "[1, 2, 3, 4, 5]\n",
      "adicionado o 6 a lista \n",
      "[1, 2, 3, 4, 5, 6]\n",
      "adicionado o 7 a lista \n",
      "[1, 2, 3, 4, 5, 6, 7]\n",
      "adicionado o 8 a lista \n",
      "[1, 2, 3, 4, 5, 6, 7, 8]\n",
      "adicionado o 9 a lista \n",
      "[1, 2, 3, 4, 5, 6, 7, 8, 9]\n",
      "adicionando 1 a matriz\n",
      "adicionado o 1 a lista \n",
      "[1]\n",
      "adicionado o 2 a lista \n",
      "[1, 2]\n",
      "adicionado o 3 a lista \n",
      "[1, 2, 3]\n",
      "adicionado o 4 a lista \n",
      "[1, 2, 3, 4]\n",
      "adicionado o 5 a lista \n",
      "[1, 2, 3, 4, 5]\n",
      "adicionado o 6 a lista \n",
      "[1, 2, 3, 4, 5, 6]\n",
      "adicionado o 7 a lista \n",
      "[1, 2, 3, 4, 5, 6, 7]\n",
      "adicionado o 8 a lista \n",
      "[1, 2, 3, 4, 5, 6, 7, 8]\n",
      "adicionado o 9 a lista \n",
      "[1, 2, 3, 4, 5, 6, 7, 8, 9]\n",
      "adicionando 2 a matriz\n",
      "adicionado o 1 a lista \n",
      "[1]\n",
      "adicionado o 2 a lista \n",
      "[1, 2]\n",
      "adicionado o 3 a lista \n",
      "[1, 2, 3]\n",
      "adicionado o 4 a lista \n",
      "[1, 2, 3, 4]\n",
      "adicionado o 5 a lista \n",
      "[1, 2, 3, 4, 5]\n",
      "adicionado o 6 a lista \n",
      "[1, 2, 3, 4, 5, 6]\n",
      "adicionado o 7 a lista \n",
      "[1, 2, 3, 4, 5, 6, 7]\n",
      "adicionado o 8 a lista \n",
      "[1, 2, 3, 4, 5, 6, 7, 8]\n",
      "adicionado o 9 a lista \n",
      "[1, 2, 3, 4, 5, 6, 7, 8, 9]\n",
      "adicionando 3 a matriz\n",
      "adicionado o 1 a lista \n",
      "[1]\n",
      "adicionado o 2 a lista \n",
      "[1, 2]\n",
      "adicionado o 3 a lista \n",
      "[1, 2, 3]\n",
      "adicionado o 4 a lista \n",
      "[1, 2, 3, 4]\n",
      "adicionado o 5 a lista \n",
      "[1, 2, 3, 4, 5]\n",
      "adicionado o 6 a lista \n",
      "[1, 2, 3, 4, 5, 6]\n",
      "adicionado o 7 a lista \n",
      "[1, 2, 3, 4, 5, 6, 7]\n",
      "adicionado o 8 a lista \n",
      "[1, 2, 3, 4, 5, 6, 7, 8]\n",
      "adicionado o 9 a lista \n",
      "[1, 2, 3, 4, 5, 6, 7, 8, 9]\n",
      "adicionando 4 a matriz\n",
      "adicionado o 1 a lista \n",
      "[1]\n",
      "adicionado o 2 a lista \n",
      "[1, 2]\n",
      "adicionado o 3 a lista \n",
      "[1, 2, 3]\n",
      "adicionado o 4 a lista \n",
      "[1, 2, 3, 4]\n",
      "adicionado o 5 a lista \n",
      "[1, 2, 3, 4, 5]\n",
      "adicionado o 6 a lista \n",
      "[1, 2, 3, 4, 5, 6]\n",
      "adicionado o 7 a lista \n",
      "[1, 2, 3, 4, 5, 6, 7]\n",
      "adicionado o 8 a lista \n",
      "[1, 2, 3, 4, 5, 6, 7, 8]\n",
      "adicionado o 9 a lista \n",
      "[1, 2, 3, 4, 5, 6, 7, 8, 9]\n",
      "adicionando 5 a matriz\n",
      "adicionado o 1 a lista \n",
      "[1]\n",
      "adicionado o 2 a lista \n",
      "[1, 2]\n",
      "adicionado o 3 a lista \n",
      "[1, 2, 3]\n",
      "adicionado o 4 a lista \n",
      "[1, 2, 3, 4]\n",
      "adicionado o 5 a lista \n",
      "[1, 2, 3, 4, 5]\n",
      "adicionado o 6 a lista \n",
      "[1, 2, 3, 4, 5, 6]\n",
      "adicionado o 7 a lista \n",
      "[1, 2, 3, 4, 5, 6, 7]\n",
      "adicionado o 8 a lista \n",
      "[1, 2, 3, 4, 5, 6, 7, 8]\n",
      "adicionado o 9 a lista \n",
      "[1, 2, 3, 4, 5, 6, 7, 8, 9]\n",
      "adicionando 6 a matriz\n",
      "adicionado o 1 a lista \n",
      "[1]\n",
      "adicionado o 2 a lista \n",
      "[1, 2]\n",
      "adicionado o 3 a lista \n",
      "[1, 2, 3]\n",
      "adicionado o 4 a lista \n",
      "[1, 2, 3, 4]\n",
      "adicionado o 5 a lista \n",
      "[1, 2, 3, 4, 5]\n",
      "adicionado o 6 a lista \n",
      "[1, 2, 3, 4, 5, 6]\n",
      "adicionado o 7 a lista \n",
      "[1, 2, 3, 4, 5, 6, 7]\n",
      "adicionado o 8 a lista \n",
      "[1, 2, 3, 4, 5, 6, 7, 8]\n",
      "adicionado o 9 a lista \n",
      "[1, 2, 3, 4, 5, 6, 7, 8, 9]\n",
      "adicionando 7 a matriz\n",
      "adicionado o 1 a lista \n",
      "[1]\n",
      "adicionado o 2 a lista \n",
      "[1, 2]\n",
      "adicionado o 3 a lista \n",
      "[1, 2, 3]\n",
      "adicionado o 4 a lista \n",
      "[1, 2, 3, 4]\n",
      "adicionado o 5 a lista \n",
      "[1, 2, 3, 4, 5]\n",
      "adicionado o 6 a lista \n",
      "[1, 2, 3, 4, 5, 6]\n",
      "adicionado o 7 a lista \n",
      "[1, 2, 3, 4, 5, 6, 7]\n",
      "adicionado o 8 a lista \n",
      "[1, 2, 3, 4, 5, 6, 7, 8]\n",
      "adicionado o 9 a lista \n",
      "[1, 2, 3, 4, 5, 6, 7, 8, 9]\n",
      "adicionando 8 a matriz\n",
      "adicionado o 1 a lista \n",
      "[1]\n",
      "adicionado o 2 a lista \n",
      "[1, 2]\n",
      "adicionado o 3 a lista \n",
      "[1, 2, 3]\n",
      "adicionado o 4 a lista \n",
      "[1, 2, 3, 4]\n",
      "adicionado o 5 a lista \n",
      "[1, 2, 3, 4, 5]\n",
      "adicionado o 6 a lista \n",
      "[1, 2, 3, 4, 5, 6]\n",
      "adicionado o 7 a lista \n",
      "[1, 2, 3, 4, 5, 6, 7]\n",
      "adicionado o 8 a lista \n",
      "[1, 2, 3, 4, 5, 6, 7, 8]\n",
      "adicionado o 9 a lista \n",
      "[1, 2, 3, 4, 5, 6, 7, 8, 9]\n",
      "adicionando 9 a matriz\n",
      "Imprindo matriz\n",
      "[[1, 2, 3, 4, 5, 6, 7, 8, 9], [1, 2, 3, 4, 5, 6, 7, 8, 9], [1, 2, 3, 4, 5, 6, 7, 8, 9], [1, 2, 3, 4, 5, 6, 7, 8, 9], [1, 2, 3, 4, 5, 6, 7, 8, 9], [1, 2, 3, 4, 5, 6, 7, 8, 9], [1, 2, 3, 4, 5, 6, 7, 8, 9], [1, 2, 3, 4, 5, 6, 7, 8, 9], [1, 2, 3, 4, 5, 6, 7, 8, 9]]\n"
     ]
    }
   ],
   "source": [
    "matriz = []\n",
    "matriz.append([1,2,3,4])\n",
    "matriz.append([5,6,7,8])\n",
    "\n",
    "print(matriz)\n",
    "matriz = []\n",
    "list=[]\n",
    "\n",
    "for x in range(1,999):\n",
    "    list = []\n",
    "    for index in range(1,999):\n",
    "        list.append(index)\n",
    "        print(f\"adicionado o {index} a lista \")\n",
    "        print(list)\n",
    "    matriz.append(list)\n",
    "    print(f\"adicionando {x} a matriz\")\n",
    "print(\"Imprindo matriz\")\n",
    "print(matriz)"
   ]
  },
  {
   "cell_type": "markdown",
   "metadata": {},
   "source": [
    "--------"
   ]
  },
  {
   "cell_type": "markdown",
   "metadata": {},
   "source": [
    "### Lista"
   ]
  },
  {
   "cell_type": "code",
   "execution_count": 10,
   "metadata": {},
   "outputs": [
    {
     "name": "stdout",
     "output_type": "stream",
     "text": [
      "9\n",
      "{'Senhor dos aneis': 8, 'Game of trones': 9, 'HP': 9, 'Ligar o foda-se': 5}\n",
      "[105, 'Italo Campos', 40, 1.85]\n"
     ]
    }
   ],
   "source": [
    "list_reads_new = {}\n",
    "list_reads_new['Senhor dos aneis'] = 8\n",
    "list_reads_new['Game of trones'] = 9\n",
    "list_reads_new [\"HP\"]= 9\n",
    "list_reads_new[ \"Ligar o foda-se\"] = 5\n",
    "\n",
    "list_reads_new\n",
    "print(list_reads_new[\"HP\"])\n",
    "\n",
    "print(list_reads_new)\n",
    "\n",
    "person = {}\n",
    "person[\"Italo\"] = [105, \"Italo Campos\", 40, 1.85]\n",
    "\n",
    "print(person[\"Italo\"])"
   ]
  },
  {
   "cell_type": "markdown",
   "metadata": {},
   "source": [
    "### Dicionarios"
   ]
  },
  {
   "cell_type": "code",
   "execution_count": 11,
   "metadata": {},
   "outputs": [],
   "source": [
    "my_dict = {\"book\": \"physical objects consisting of a number of pages bound together\",\n",
    "           \"sword\": \"a cutting or thrusting weapon that has a long metal blade\",\n",
    "           \"pie\": \"dish baked in pastry-lined pan often with a pastry top\"}"
   ]
  },
  {
   "cell_type": "code",
   "execution_count": 15,
   "metadata": {},
   "outputs": [
    {
     "name": "stdout",
     "output_type": "stream",
     "text": [
      "a cutting or thrusting weapon that has a long metal blade\n",
      "<built-in method values of dict object at 0x0000016AE3C9C500>\n",
      "<built-in method keys of dict object at 0x0000016AE3C9C500>\n"
     ]
    }
   ],
   "source": [
    "my_dict[\"pie\"]\n",
    "descrip = my_dict [\"sword\"]\n",
    "print(descrip)\n",
    "print(my_dict.values)\n",
    "print(my_dict.keys)"
   ]
  },
  {
   "cell_type": "markdown",
   "metadata": {},
   "source": [
    "-----"
   ]
  },
  {
   "cell_type": "markdown",
   "metadata": {},
   "source": [
    "### Bolean"
   ]
  },
  {
   "cell_type": "code",
   "execution_count": 22,
   "metadata": {},
   "outputs": [
    {
     "name": "stdout",
     "output_type": "stream",
     "text": [
      "2 < 5 = True\n",
      "9 >10 = False\n",
      "8 != 10 = True\n",
      "Python != perl = True\n",
      "Python != perl = True\n"
     ]
    },
    {
     "data": {
      "text/plain": [
       "True"
      ]
     },
     "execution_count": 22,
     "metadata": {},
     "output_type": "execute_result"
    }
   ],
   "source": [
    "print(\"2 < 5 =\", 2 < 5)\n",
    "print(\"9 >10 =\" ,9>10)\n",
    "print(\"8 != 10 =\", 8!=10)\n",
    "print(\"Python != perl =\", \"Python\" != \"python\")\n",
    "print(\"Python != perl =\", \"python\" == \"python\")\n",
    "\n",
    "\"eu\" == \"eu\"\n",
    "\n",
    "\n",
    "\n"
   ]
  },
  {
   "cell_type": "markdown",
   "metadata": {},
   "source": [
    "--------"
   ]
  },
  {
   "cell_type": "markdown",
   "metadata": {},
   "source": [
    "## IF, ELif and ELSE"
   ]
  },
  {
   "cell_type": "code",
   "execution_count": 38,
   "metadata": {},
   "outputs": [
    {
     "name": "stdout",
     "output_type": "stream",
     "text": [
      "O valor 10 e maior que o valor 2 e 4\n"
     ]
    }
   ],
   "source": [
    "entrada1 = int (input(\"Digite um valor maior que zero e menor que 1000\")\n",
    "               )\n",
    "entrada2 = int (input(\"Digite um valor maior que zero e menor que 1000\")\n",
    "               )\n",
    "entrada3 = int (input(\"Digite um valor maior que zero e menor que 1000\")\n",
    "               )\n",
    "\n",
    "if entrada1 > entrada2 and entrada1> entrada3:\n",
    "    print (f\"O valor {entrada1} e maior que o valor {entrada2} e {entrada3}\")\n",
    "elif entrada2>entrada1 and entrada2>entrada3:\n",
    "    print (f\"O valor {entrada2} e maior que o valor {entrada1} e {entrada3}\")\n",
    "elif entrada3>entrada1 and entrada3>entrada2:\n",
    "    print(f'o valor {entrada3} é maior {entrada1} e {entrada2}')\n",
    "else:\n",
    "    print(f\"o valor passado não esta mapeado\")\n"
   ]
  },
  {
   "cell_type": "markdown",
   "metadata": {},
   "source": [
    "# Swite case"
   ]
  },
  {
   "cell_type": "code",
   "execution_count": 8,
   "metadata": {},
   "outputs": [],
   "source": [
    "def dia_semanas():\n",
    "    dia_Semana= int(input(\"Digite um numero de entre 1 e 7 referente a semana\"))\n",
    "\n",
    "    match dia_Semana:\n",
    "        case 0:\n",
    "            print (\"0 zero não é um dia da semana\")\n",
    "        case 1:\n",
    "            return \"Segunda feira\"\n",
    "        case 2:\n",
    "            return \"Terça\"\n",
    "        case _:\n",
    "            return \"Saindo...\"\n",
    "\n",
    "if __name__ == \"__main__\":\n",
    "    for _ in range(1):\n",
    "        dia_semanas()\n",
    "    "
   ]
  },
  {
   "cell_type": "code",
   "execution_count": 42,
   "metadata": {},
   "outputs": [
    {
     "name": "stdout",
     "output_type": "stream",
     "text": [
      "trecho buscado : 'pescarss' não esta dentro da frease\n"
     ]
    }
   ],
   "source": [
    "frase = \"Fui ao mar pescar\"\n",
    "buscar = \"pescarss\"\n",
    "if buscar in frase:\n",
    "    print (f\" {buscar} esta dentro de:  {frase}\")\n",
    "else:\n",
    "    print(f\"trecho buscado : '{buscar}' não esta dentro da frease\")"
   ]
  },
  {
   "cell_type": "markdown",
   "metadata": {},
   "source": [
    "-----"
   ]
  },
  {
   "cell_type": "markdown",
   "metadata": {},
   "source": [
    "### Loops "
   ]
  },
  {
   "cell_type": "code",
   "execution_count": 48,
   "metadata": {},
   "outputs": [
    {
     "name": "stdout",
     "output_type": "stream",
     "text": [
      "0\n",
      "1\n",
      "2\n",
      "3\n",
      "4\n",
      "5\n",
      "6\n",
      "7\n",
      "8\n",
      " \n",
      "b\n",
      "e\n",
      "m\n",
      " \n",
      "v\n",
      "i\n",
      "n\n",
      "d\n",
      "o\n",
      " \n",
      " banana\n",
      "pera\n",
      "pera\n",
      "Essa é acor Amarelo\n",
      "Essa é acor vermelho\n",
      "Essa é acor Verde\n"
     ]
    }
   ],
   "source": [
    "repeticao = int(input(\"Quantas vezes você deseja realizar uma interação: \"))\n",
    "for index in range(0, repeticao):\n",
    "    print(index)\n",
    "    \n",
    "for interacao in \" bem vindo \":\n",
    "    print(interacao)\n",
    "    \n",
    "for palavras in [\" banana\", \"pera\", \"pera\"]:\n",
    "    print (palavras)\n",
    "\n",
    "cores = [ \"Amarelo\", \"vermelho\", \"Verde\"]\n",
    "\n",
    "for emcor in cores:\n",
    "    print(f\"Essa é acor {emcor}\")"
   ]
  },
  {
   "cell_type": "code",
   "execution_count": 7,
   "metadata": {},
   "outputs": [
    {
     "name": "stdout",
     "output_type": "stream",
     "text": [
      "1\n",
      "2\n",
      "3\n",
      "4\n",
      "5\n",
      "6\n",
      "7\n",
      "8\n",
      "9\n",
      "10\n",
      "11\n",
      "12\n",
      "13\n",
      "14\n",
      "15\n",
      "16\n",
      "17\n",
      "18\n",
      "19\n",
      "20\n",
      "21\n",
      "22\n",
      "23\n",
      "24\n",
      "25\n",
      "26\n",
      "27\n",
      "28\n",
      "29\n",
      "30\n",
      "31\n",
      "32\n",
      "33\n",
      "34\n",
      "35\n",
      "36\n",
      "37\n",
      "38\n",
      "39\n",
      "40\n",
      "41\n",
      "42\n",
      "43\n",
      "44\n",
      "45\n",
      "46\n",
      "47\n",
      "48\n",
      "49\n",
      "50\n",
      "51\n",
      "52\n",
      "53\n",
      "54\n",
      "55\n",
      "56\n",
      "57\n",
      "58\n",
      "59\n",
      "60\n",
      "61\n",
      "62\n",
      "63\n",
      "64\n",
      "65\n",
      "66\n",
      "67\n",
      "68\n",
      "69\n",
      "70\n",
      "71\n",
      "72\n",
      "73\n",
      "74\n",
      "75\n",
      "76\n",
      "77\n",
      "78\n",
      "79\n",
      "80\n",
      "81\n",
      "82\n",
      "83\n",
      "84\n",
      "85\n",
      "86\n",
      "87\n",
      "88\n",
      "89\n",
      "90\n",
      "91\n",
      "92\n",
      "93\n",
      "94\n",
      "95\n",
      "96\n",
      "97\n",
      "98\n",
      "99\n",
      "100\n"
     ]
    }
   ],
   "source": [
    "entrada = int(input(\"Digite quanto quer repetir: \"))\n",
    "cont =1\n",
    "while cont < entrada:\n",
    "    print (f\"{cont}\")\n",
    "    cont+=1\n",
    "\n"
   ]
  },
  {
   "cell_type": "code",
   "execution_count": 9,
   "metadata": {},
   "outputs": [
    {
     "name": "stdout",
     "output_type": "stream",
     "text": [
      "Valor digitado foi : 55\n",
      "Valor digitado foi : 55\n",
      "Valor digitado foi : 11\n",
      "Valor digitado foi : 22\n",
      "Valor digitado foi : 0\n",
      "Programa sendo finalizado...\n"
     ]
    }
   ],
   "source": [
    "while True:\n",
    "    entrada = int(input(\"Digite quanto quer repetir: \"))\n",
    "    print(f\"Valor digitado foi : {entrada}\")\n",
    "    if entrada == 0:\n",
    "        print(\"Programa sendo finalizado...\")\n",
    "        break"
   ]
  },
  {
   "cell_type": "code",
   "execution_count": 4,
   "metadata": {},
   "outputs": [
    {
     "name": "stdout",
     "output_type": "stream",
     "text": [
      "[0]\n",
      "[0, 1]\n",
      "[0, 1, 4]\n",
      "[0, 1, 4, 9]\n",
      "[0, 1, 4, 9, 16]\n",
      "[0, 2, 4, 6, 8, 10, 12, 14, 16, 18, 20, 22, 24, 26, 28, 30, 32, 34, 36, 38, 40, 42, 44, 46, 48, 50, 52, 54, 56, 58, 60, 62, 64, 66, 68, 70, 72, 74, 76, 78, 80, 82, 84, 86, 88, 90, 92, 94, 96, 98, 100, 102, 104, 106, 108, 110, 112, 114, 116, 118, 120, 122, 124, 126, 128, 130, 132, 134, 136, 138, 140, 142, 144, 146, 148, 150, 152, 154, 156, 158, 160, 162, 164, 166, 168, 170, 172, 174, 176, 178, 180, 182, 184, 186, 188, 190, 192, 194, 196, 198]\n"
     ]
    }
   ],
   "source": [
    "lista= []\n",
    "for item in range (5):\n",
    "    lista.append(item**2)\n",
    "    print(lista)\n",
    "nova_lista  = [item*2 for item in range(0,100)]\n",
    "print(nova_lista)"
   ]
  },
  {
   "cell_type": "code",
   "execution_count": 3,
   "metadata": {},
   "outputs": [
    {
     "name": "stdout",
     "output_type": "stream",
     "text": [
      "O numero agora é 0\n",
      "O numero agora é 1\n",
      "O numero agora é 2\n",
      "O numero agora é 3\n",
      "O numero agora é 4\n",
      "O numero agora é 5\n",
      "O numero agora é 6\n",
      "O numero agora é 7\n",
      "O numero agora é 8\n",
      "O numero agora é 9\n",
      "O numero agora é 10\n",
      "O numero agora é 11\n",
      "O numero agora é 12\n",
      "O numero agora é 13\n",
      "O numero agora é 14\n",
      "O numero agora é 15\n",
      "O numero agora é 16\n",
      "O numero agora é 17\n",
      "O numero agora é 18\n",
      "O numero agora é 19\n",
      "O numero agora é 20\n",
      "O numero agora é 21\n",
      "O numero agora é 22\n",
      "O numero agora é 23\n",
      "O numero agora é 24\n",
      "O numero agora é 25\n",
      "O numero agora é 26\n",
      "O numero agora é 27\n",
      "O numero agora é 28\n",
      "O numero agora é 29\n",
      "O numero agora é 30\n",
      "O numero agora é 31\n",
      "O numero agora é 32\n",
      "O numero agora é 33\n",
      "O numero agora é 34\n",
      "O numero agora é 35\n",
      "O numero agora é 36\n",
      "O numero agora é 37\n",
      "O numero agora é 38\n",
      "O numero agora é 39\n",
      "O numero agora é 40\n",
      "O numero agora é 41\n",
      "O numero agora é 42\n",
      "O numero agora é 43\n",
      "O numero agora é 44\n",
      "O numero agora é 45\n",
      "O numero agora é 46\n",
      "O numero agora é 47\n",
      "O numero agora é 48\n",
      "O numero agora é 49\n",
      "O numero agora é 50\n",
      "O numero agora é 51\n",
      "O numero agora é 52\n",
      "O numero agora é 53\n",
      "O numero agora é 54\n",
      "O numero agora é 55\n",
      "O numero agora é 56\n",
      "O numero agora é 57\n",
      "O numero agora é 58\n",
      "O numero agora é 59\n",
      "O numero agora é 60\n",
      "O numero agora é 61\n",
      "O numero agora é 62\n",
      "O numero agora é 63\n",
      "O numero agora é 64\n",
      "O numero agora é 65\n",
      "O numero agora é 66\n",
      "O numero agora é 67\n",
      "O numero agora é 68\n",
      "O numero agora é 69\n",
      "O numero agora é 70\n",
      "O numero agora é 71\n",
      "O numero agora é 72\n",
      "O numero agora é 73\n",
      "O numero agora é 74\n",
      "O numero agora é 75\n",
      "O numero agora é 76\n",
      "O numero agora é 77\n",
      "O numero agora é 78\n",
      "O numero agora é 79\n",
      "O numero agora é 80\n",
      "O numero agora é 81\n",
      "O numero agora é 82\n",
      "O numero agora é 83\n",
      "O numero agora é 84\n",
      "O numero agora é 85\n",
      "O numero agora é 86\n",
      "O numero agora é 87\n",
      "O numero agora é 88\n",
      "O numero agora é 89\n",
      "O numero agora é 90\n",
      "O numero agora é 91\n",
      "O numero agora é 92\n",
      "O numero agora é 93\n",
      "O numero agora é 94\n",
      "O numero agora é 95\n",
      "O numero agora é 96\n",
      "O numero agora é 97\n",
      "O numero agora é 98\n",
      "O numero agora é 99\n"
     ]
    }
   ],
   "source": [
    "i =0\n",
    "while i< 100:\n",
    "    print(f\"O numero agora é {i}\")\n",
    "    i+=1"
   ]
  },
  {
   "cell_type": "code",
   "execution_count": 6,
   "metadata": {},
   "outputs": [
    {
     "name": "stdout",
     "output_type": "stream",
     "text": [
      "None\n"
     ]
    }
   ],
   "source": [
    "list_x = [1,2,4,5]\n",
    "resul = list_x.sort()\n",
    "print(resul)"
   ]
  },
  {
   "cell_type": "code",
   "execution_count": 7,
   "metadata": {},
   "outputs": [
    {
     "ename": "ModuleNotFoundError",
     "evalue": "No module named 'faker'",
     "output_type": "error",
     "traceback": [
      "\u001b[1;31m---------------------------------------------------------------------------\u001b[0m",
      "\u001b[1;31mModuleNotFoundError\u001b[0m                       Traceback (most recent call last)",
      "Cell \u001b[1;32mIn[7], line 1\u001b[0m\n\u001b[1;32m----> 1\u001b[0m \u001b[38;5;28;01mfrom\u001b[39;00m \u001b[38;5;21;01mfaker\u001b[39;00m \u001b[38;5;28;01mimport\u001b[39;00m Faker\n\u001b[0;32m      2\u001b[0m fake \u001b[38;5;241m=\u001b[39m Faker()\n\u001b[0;32m      4\u001b[0m nome \u001b[38;5;241m=\u001b[39m fake\u001b[38;5;241m.\u001b[39mname()\n",
      "\u001b[1;31mModuleNotFoundError\u001b[0m: No module named 'faker'"
     ]
    }
   ],
   "source": [
    "from faker import Faker\n",
    "fake = Faker()\n",
    "\n",
    "nome = fake.name()\n",
    "print(f'Nome:{nome}')"
   ]
  }
 ],
 "metadata": {
  "kernelspec": {
   "display_name": "Python 3",
   "language": "python",
   "name": "python3"
  },
  "language_info": {
   "codemirror_mode": {
    "name": "ipython",
    "version": 3
   },
   "file_extension": ".py",
   "mimetype": "text/x-python",
   "name": "python",
   "nbconvert_exporter": "python",
   "pygments_lexer": "ipython3",
   "version": "3.12.1"
  }
 },
 "nbformat": 4,
 "nbformat_minor": 2
}
