{
 "cells": [
  {
   "cell_type": "code",
   "execution_count": null,
   "metadata": {},
   "outputs": [],
   "source": [
    "contador = 0\n",
    "while contador < 5: \n",
    "\n",
    "    print(\"Contagem:\", contador) \n",
    "\n",
    "    contador += 1"
   ]
  },
  {
   "cell_type": "code",
   "execution_count": null,
   "metadata": {},
   "outputs": [],
   "source": [
    "numero_escolhido = 9\n",
    "entrada = int(input(\"digite um numero  entre 0 e 10: \"))\n",
    "\n",
    "while entrada!= numero_escolhido:\n",
    "    print(\"Voce erro, digite novamente\")\n",
    "    entrada = int(input(\"digite um numero  entre 0 e 10: \"))\n",
    "\n",
    "    \n",
    "print(\"Voce acertou!\")\n",
    "\n",
    "cont = 0\n",
    "\n",
    "while cont <10:\n",
    "    print (cont)\n",
    "    cont= cont + 1\n",
    "\n",
    "\n",
    "\n",
    "for i  in range(1,50,9):\n",
    "    print (i)\n",
    "\n",
    "soma = 0\n",
    "\n",
    "for i in range (1,4):\n",
    "    notas= float(input(f\"Digte sua nota {i}: \"))\n",
    "    soma = soma + notas\n",
    "\n",
    "\n",
    "print(soma/3)"
   ]
  }
 ],
 "metadata": {
  "language_info": {
   "name": "python"
  }
 },
 "nbformat": 4,
 "nbformat_minor": 2
}
