{
 "cells": [
  {
   "cell_type": "code",
   "execution_count": null,
   "metadata": {
    "vscode": {
     "languageId": "plaintext"
    }
   },
   "outputs": [],
   "source": [
    "matriz = []\n",
    "matriz.append([1,2,3,4])\n",
    "matriz.append([5,6,7,8])\n",
    "\n",
    "print(matriz)\n",
    "matriz = []\n",
    "list=[]\n",
    "\n",
    "for x in range(1,999):\n",
    "    list = []\n",
    "    for index in range(1,999):\n",
    "        list.append(index)\n",
    "        print(f\"adicionado o {index} a lista \")\n",
    "        print(list)\n",
    "    matriz.append(list)\n",
    "    print(f\"adicionando {x} a matriz\")\n",
    "print(\"Imprindo matriz\")\n",
    "print(matriz)"
   ]
  }
 ],
 "metadata": {
  "language_info": {
   "name": "python"
  }
 },
 "nbformat": 4,
 "nbformat_minor": 2
}
