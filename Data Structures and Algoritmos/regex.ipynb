{
 "cells": [
  {
   "cell_type": "code",
   "execution_count": null,
   "metadata": {
    "vscode": {
     "languageId": "plaintext"
    }
   },
   "outputs": [],
   "source": [
    "\n",
    "import re\n",
    "\n",
    "frase=\"Esta# frase@ esta @ quebrada\"\n",
    "palavras2=re.split('@|#',frase)\n",
    "palavras=frase.split(\"@\")\n",
    "print(palavras2)"
   ]
  }
 ],
 "metadata": {
  "language_info": {
   "name": "python"
  }
 },
 "nbformat": 4,
 "nbformat_minor": 2
}
