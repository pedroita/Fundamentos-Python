{
 "cells": [
  {
   "cell_type": "code",
   "execution_count": null,
   "metadata": {
    "vscode": {
     "languageId": "plaintext"
    }
   },
   "outputs": [],
   "source": [
    "from getpass import getpass\n",
    "\n",
    "usuario = input(\"Defina seu nome de usuario: \")\n",
    "senha = getpass(\"Defina uma senha para seu usario: \")\n",
    "print(f'{senha}')\n",
    "print(len(senha))"
   ]
  },
  {
   "cell_type": "code",
   "execution_count": null,
   "metadata": {
    "vscode": {
     "languageId": "plaintext"
    }
   },
   "outputs": [],
   "source": [
    "from faker import Faker\n",
    "fake = Faker()\n",
    "\n",
    "nome = fake.name()\n",
    "print(f'Nome:{nome}')"
   ]
  },
  {
   "cell_type": "code",
   "execution_count": null,
   "metadata": {
    "vscode": {
     "languageId": "plaintext"
    }
   },
   "outputs": [],
   "source": [
    "import time\n",
    "from win10toast import ToastNotifier\n",
    "\n",
    "toaster =ToastNotifier()\n",
    "\n",
    "toaster.show_toast(\n",
    "    \"Notificação\",\n",
    "    \"Te amo vida 💝 Casa comigo?\",\n",
    "    icon_path=None,\n",
    "    duration=4\n",
    ")\n",
    "\n",
    "toaster.show_toast(\"Example two\",\n",
    "                   \"This notification is in it's own thread!\",\n",
    "                   icon_path=None,\n",
    "                   duration=5,\n",
    "                   threaded=True)\n",
    "# Wait for threaded notification to finish\n",
    "while toaster.notification_active(): time.sleep(0.1)"
   ]
  },
  {
   "cell_type": "code",
   "execution_count": null,
   "metadata": {
    "vscode": {
     "languageId": "plaintext"
    }
   },
   "outputs": [],
   "source": [
    "from countryinfo import CountryInfo\n",
    "\n",
    "pais = CountryInfo(input(\"Digite o nome do pais: \"))\n",
    "\n",
    "print(f\"Pais: {pais.name()}\")"
   ]
  },
  {
   "cell_type": "code",
   "execution_count": null,
   "metadata": {
    "vscode": {
     "languageId": "plaintext"
    }
   },
   "outputs": [],
   "source": [
    "from faker import Faker\n",
    "fake = Faker()\n",
    "\n",
    "nome = fake.name()\n",
    "fastname = fake.first_name_female()\n",
    "usuario = fake.user_name()\n",
    "senha = fake.password()\n",
    "mes = fake.month()\n",
    "print(f'Nome:{nome}')\n",
    "print(f'Sobre nome:{fastname}')\n",
    "print(f'Usuario:{usuario}')\n",
    "print(f'Senha:{senha}')\n",
    "print(f'mes:{mes}')\n",
    "\n",
    "\n",
    "\n"
   ]
  }
 ],
 "metadata": {
  "language_info": {
   "name": "python"
  }
 },
 "nbformat": 4,
 "nbformat_minor": 2
}
